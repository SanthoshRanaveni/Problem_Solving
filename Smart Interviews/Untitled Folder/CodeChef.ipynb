{
 "cells": [
  {
   "cell_type": "code",
   "execution_count": 2,
   "metadata": {},
   "outputs": [],
   "source": [
    "############################################## April Challenge  #################################################"
   ]
  },
  {
   "cell_type": "code",
   "execution_count": 16,
   "metadata": {},
   "outputs": [
    {
     "name": "stdout",
     "output_type": "stream",
     "text": [
      "1\n",
      "6\n",
      "1 2 4 7 10 11\n",
      "1 3\n"
     ]
    }
   ],
   "source": [
    "#COVID19\n",
    "t=int(input())\n",
    "for testcase in range(t):\n",
    "    flag=0\n",
    "    n=int(input())\n",
    "    que=list(map(int,input().split()))\n",
    "    distance=[]\n",
    "    infectedArr=[]\n",
    "    infected=0\n",
    "    for i in range(n-1):\n",
    "        distance.append(int(que[i+1]-que[i]))\n",
    "    for i in range(len(distance)):\n",
    "        if(distance[i]<=2):\n",
    "            infected+=1\n",
    "        else:\n",
    "            infectedArr.append(infected)\n",
    "            infected=0\n",
    "        if(i==(len(distance)-1)):\n",
    "            infectedArr.append(infected)\n",
    "    print(min(infectedArr)+1,max(infectedArr)+1)"
   ]
  },
  {
   "cell_type": "code",
   "execution_count": 21,
   "metadata": {},
   "outputs": [
    {
     "name": "stdout",
     "output_type": "stream",
     "text": [
      "1\n",
      "28 7\n",
      "qqqqqqqwwwwwweeeeerrrrtttyyu\n",
      "6\n",
      "1\n",
      "5\n",
      "3\n",
      "4\n",
      "6\n",
      "3\n",
      "10\n",
      "2\n",
      "15\n",
      "1\n",
      "21\n",
      "0\n",
      "28\n"
     ]
    }
   ],
   "source": [
    "#CORUS \n",
    "t=int(input())\n",
    "for testcase in range(t):\n",
    "    n,q=map(int,input().split())\n",
    "    patients=input()\n",
    "    for i in range(q):\n",
    "        new_dict=dict()\n",
    "        distinct=[]\n",
    "        c=int(input())\n",
    "        queue=0\n",
    "        for k in range(len(patients)):\n",
    "            if patients[k] not in distinct:\n",
    "                distinct.append(patients[k])\n",
    "            else:\n",
    "                if patients[k] not in new_dict:\n",
    "                    new_dict[patients[k]]=1\n",
    "                else:\n",
    "                    new_dict[patients[k]]+=1\n",
    "        for each in new_dict:\n",
    "            new_dict[each]-=(c-1)\n",
    "        for each in new_dict:\n",
    "            if(new_dict[each]>0):\n",
    "                queue+=new_dict[each]\n",
    "        if(c==0):\n",
    "            print(len(patients))\n",
    "        else:\n",
    "            print(queue)"
   ]
  },
  {
   "cell_type": "code",
   "execution_count": 8,
   "metadata": {},
   "outputs": [
    {
     "name": "stdout",
     "output_type": "stream",
     "text": [
      "1\n",
      "20 2\n",
      "stayinghomesaveslife\n",
      "1\n",
      "{'s': 2, 'a': 1, 'e': 2, 'i': 1}\n",
      "6\n",
      "3\n",
      "{'s': 2, 'a': 1, 'e': 2, 'i': 1}\n",
      "0\n"
     ]
    }
   ],
   "source": [
    "#CORUS \n",
    "t=int(input())\n",
    "for testcase in range(t):\n",
    "    n,q=map(int,input().split())\n",
    "    patients=input()\n",
    "    new_dict=dict()\n",
    "    distinct=[]\n",
    "    for k in range(len(patients)):\n",
    "        if patients[k] not in distinct:\n",
    "            distinct.append(patients[k])\n",
    "        else:\n",
    "            if patients[k] not in new_dict:\n",
    "                new_dict[patients[k]]=1\n",
    "            else:\n",
    "                new_dict[patients[k]]+=1\n",
    "    for query in range(q):\n",
    "        c=int(input())\n",
    "        newdict2=dict()\n",
    "        newdict2=new_dict\n",
    "        queue=0\n",
    "        for each in newdict2:\n",
    "            if(newdict2[each]-(c-1)>0):\n",
    "                queue+=(newdict2[each]-(c-1))\n",
    "        if(c==0):\n",
    "            print(len(patients))\n",
    "        else:\n",
    "            print(queue)"
   ]
  },
  {
   "cell_type": "markdown",
   "metadata": {},
   "source": []
  },
  {
   "cell_type": "code",
   "execution_count": null,
   "metadata": {},
   "outputs": [],
   "source": [
    "###################################### JUNE LONG CHALLENGE ##########################################"
   ]
  },
  {
   "cell_type": "code",
   "execution_count": 3,
   "metadata": {},
   "outputs": [
    {
     "name": "stdout",
     "output_type": "stream",
     "text": [
      "3 \n",
      "5 4\n",
      "10 2 3 4 5\n",
      "7\n",
      "7 15\n",
      "1 2 3 4 5 6 7\n",
      "0\n",
      "5 5\n",
      "10 9 8 7 6\n",
      "15\n"
     ]
    }
   ],
   "source": [
    "#Chef and Price control\n",
    "t=int(input())\n",
    "for testcase in range(t):\n",
    "    n,k=map(int,input().split())\n",
    "    ar=list(map(int,input().split()))\n",
    "    summ=0\n",
    "    for i in range(n):\n",
    "        if(ar[i]>k):\n",
    "            summ+=(ar[i]-k)\n",
    "    print(summ)"
   ]
  },
  {
   "cell_type": "code",
   "execution_count": 6,
   "metadata": {},
   "outputs": [
    {
     "name": "stdout",
     "output_type": "stream",
     "text": [
      "3\n",
      "xy\n",
      "1\n",
      "xyxxy\n",
      "2\n",
      "yy\n",
      "0\n"
     ]
    }
   ],
   "source": [
    "#Chef and String\n",
    "t=int(input())\n",
    "for testcase in range(t):\n",
    "    txt=input()\n",
    "    n=len(txt)\n",
    "    i=0\n",
    "    cnt=0\n",
    "    while(i<n-1):\n",
    "            if(txt[i]!=txt[i+1]):\n",
    "                cnt+=1\n",
    "                i+=2\n",
    "            else:\n",
    "                i+=1\n",
    "    print(cnt)"
   ]
  },
  {
   "cell_type": "code",
   "execution_count": 10,
   "metadata": {},
   "outputs": [
    {
     "name": "stdout",
     "output_type": "stream",
     "text": [
      "3\n",
      "2\n",
      "5 10\n",
      "YES\n",
      "2\n",
      "10 5\n",
      "NO\n",
      "2\n",
      "5 15\n",
      "NO\n"
     ]
    }
   ],
   "source": [
    "#Chef and Icecream\n",
    "t=int(input())\n",
    "for testcase in range(t):\n",
    "    cnt=0\n",
    "    n=int(input())\n",
    "    coins=dict()\n",
    "    coins[5]=0\n",
    "    coins[10]=0\n",
    "    ar=list(map(int,input().split()))\n",
    "    for i in range(n):\n",
    "        if(ar[i]==5):\n",
    "            coins[5]+=1\n",
    "        else:\n",
    "            diff=ar[i]-5\n",
    "            if(diff==5 and coins[5]>0):\n",
    "                coins[5]-=1\n",
    "                coins[10]+=1\n",
    "            elif(diff==10 and coins[10]>0):\n",
    "                coins[10]-=1\n",
    "            elif(diff==10 and coins[5]>1):\n",
    "                coins[5]-=2\n",
    "            else:\n",
    "                break\n",
    "        cnt+=1\n",
    "    if(n==cnt):\n",
    "        print(\"YES\")\n",
    "    else:\n",
    "        print(\"NO\")"
   ]
  },
  {
   "cell_type": "code",
   "execution_count": 12,
   "metadata": {},
   "outputs": [
    {
     "name": "stdout",
     "output_type": "stream",
     "text": [
      "2\n",
      "1\n",
      "0\n",
      "11\n",
      "5\n"
     ]
    }
   ],
   "source": [
    "#The Tom and Jerry Game\n",
    "t=int(input())\n",
    "for testcase in range(t):\n",
    "    ts=int(input())\n",
    "    while(ts%2!=1):\n",
    "        ts//=2\n",
    "    print(ts//2)"
   ]
  },
  {
   "cell_type": "code",
   "execution_count": 3,
   "metadata": {},
   "outputs": [
    {
     "name": "stdout",
     "output_type": "stream",
     "text": [
      "5\n",
      "4\n",
      "1 2 3 4 \n",
      "8 7 6 5 \n",
      "9 10 11 12 \n",
      "16 15 14 13 \n",
      "3\n",
      "1 2 3 \n",
      "6 5 4 \n",
      "7 8 9 \n",
      "10\n",
      "1 2 3 4 5 6 7 8 9 10 \n",
      "20 19 18 17 16 15 14 13 12 11 \n",
      "21 22 23 24 25 26 27 28 29 30 \n",
      "40 39 38 37 36 35 34 33 32 31 \n",
      "41 42 43 44 45 46 47 48 49 50 \n",
      "60 59 58 57 56 55 54 53 52 51 \n",
      "61 62 63 64 65 66 67 68 69 70 \n",
      "80 79 78 77 76 75 74 73 72 71 \n",
      "81 82 83 84 85 86 87 88 89 90 \n",
      "100 99 98 97 96 95 94 93 92 91 \n",
      "1\n",
      "1 \n",
      "2\n",
      "1 2 \n",
      "4 3 \n"
     ]
    }
   ],
   "source": [
    "#Even Matrix\n",
    "t=int(input())\n",
    "for testcase in range(t):\n",
    "    n=int(input())\n",
    "    m=n\n",
    "    for i in range(m):\n",
    "        if(i%2==0):\n",
    "            k=(i*n)+1\n",
    "            for j in range(n):\n",
    "                print(k,end=\" \")\n",
    "                k+=1\n",
    "        else:\n",
    "            k=(i+1)*n\n",
    "            for j in range(n):\n",
    "                print(k,end=\" \")\n",
    "                k-=1\n",
    "        print(\"\")"
   ]
  },
  {
   "cell_type": "code",
   "execution_count": null,
   "metadata": {},
   "outputs": [],
   "source": []
  }
 ],
 "metadata": {
  "kernelspec": {
   "display_name": "Python 3",
   "language": "python",
   "name": "python3"
  },
  "language_info": {
   "codemirror_mode": {
    "name": "ipython",
    "version": 3
   },
   "file_extension": ".py",
   "mimetype": "text/x-python",
   "name": "python",
   "nbconvert_exporter": "python",
   "pygments_lexer": "ipython3",
   "version": "3.7.3"
  }
 },
 "nbformat": 4,
 "nbformat_minor": 2
}
