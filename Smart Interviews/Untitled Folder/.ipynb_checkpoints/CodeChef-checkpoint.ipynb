{
 "cells": [
  {
   "cell_type": "code",
   "execution_count": 2,
   "metadata": {},
   "outputs": [],
   "source": [
    "############################################## April Challenge  #################################################"
   ]
  },
  {
   "cell_type": "code",
   "execution_count": 1,
   "metadata": {},
   "outputs": [
    {
     "name": "stdout",
     "output_type": "stream",
     "text": [
      "3\n",
      "2\n",
      "3 6\n",
      "1 1\n",
      "3\n",
      "1 3 5\n",
      "1 3\n",
      "5\n",
      "1 2 5 6 7\n",
      "1 3\n"
     ]
    }
   ],
   "source": [
    "#COVID19\n",
    "\n",
    "t=int(input())\n",
    "for i in range(t):\n",
    "    n=int(input())\n",
    "    que=list(map(int,input().split()))\n",
    "    distance=[]\n",
    "    infected=1\n",
    "    min=1\n",
    "    max=1\n",
    "    for i in range(n-1):\n",
    "        distance.append(int(que[i+1]-que[i]))\n",
    "    for i in range(n-1):\n",
    "        if(distance[i]<=2):\n",
    "            infected+=1\n",
    "        else:\n",
    "            if(infected < min):\n",
    "                min=infected\n",
    "            if(infected > max):\n",
    "                max=infected\n",
    "            infected=1\n",
    "    if(infected > max):\n",
    "        max=infected\n",
    "    print(min,max)"
   ]
  },
  {
   "cell_type": "code",
   "execution_count": null,
   "metadata": {},
   "outputs": [],
   "source": []
  }
 ],
 "metadata": {
  "kernelspec": {
   "display_name": "Python 3",
   "language": "python",
   "name": "python3"
  },
  "language_info": {
   "codemirror_mode": {
    "name": "ipython",
    "version": 3
   },
   "file_extension": ".py",
   "mimetype": "text/x-python",
   "name": "python",
   "nbconvert_exporter": "python",
   "pygments_lexer": "ipython3",
   "version": "3.7.3"
  }
 },
 "nbformat": 4,
 "nbformat_minor": 2
}
