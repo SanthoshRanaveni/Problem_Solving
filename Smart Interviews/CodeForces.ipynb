{
 "cells": [
  {
   "cell_type": "code",
   "execution_count": null,
   "metadata": {},
   "outputs": [],
   "source": [
    "#Problem 4A Watermelon---1\n",
    "n=int(input())\n",
    "if(n%2==0 and n>2):\n",
    "    print(\"YES\")\n",
    "else:\n",
    "    print(\"NO\")"
   ]
  },
  {
   "cell_type": "code",
   "execution_count": null,
   "metadata": {},
   "outputs": [],
   "source": [
    "#Problem 1A Theatre Square---2\n",
    "n,m,a=map(int,input().split())\n",
    "// \n",
    "if m%a==0:\n",
    " d1=m//a\n",
    "else:\n",
    " d1=m//a+1\n",
    " \n",
    "if n%a==0:\n",
    " d2=n//a\n",
    "else:\n",
    " d2=n//a+1\n",
    " \n",
    "print(d1*d2)"
   ]
  },
  {
   "cell_type": "code",
   "execution_count": null,
   "metadata": {},
   "outputs": [],
   "source": [
    "#71A WAY TOO LONG WORDS---3\n",
    "n=int(input())\n",
    "for i in range(n):\n",
    "    word = input()\n",
    "    if(len(word)>10):\n",
    "        print(word[0]+str(len(word)-2)+word[-1])\n",
    "    else:\n",
    "        print(word)"
   ]
  },
  {
   "cell_type": "code",
   "execution_count": null,
   "metadata": {},
   "outputs": [],
   "source": [
    "#158A Next Round---4\n",
    "m,n = map(int, input().split())\n",
    "scores=list(map(int,input().strip().split()))[:m]\n",
    "count=0\n",
    "for score in scores:\n",
    "    if(score>0):\n",
    "        if (score >= scores[n-1]):\n",
    "            count+=1\n",
    "        else:\n",
    "            break;\n",
    "    else:\n",
    "        break;\n",
    "print(count)\n"
   ]
  },
  {
   "cell_type": "code",
   "execution_count": 5,
   "metadata": {},
   "outputs": [
    {
     "name": "stdout",
     "output_type": "stream",
     "text": [
      "sdfaweyYesi\n",
      ".s.d.f.w.s"
     ]
    }
   ],
   "source": [
    "#Problem 118A String Task---5\n",
    "string=input()\n",
    "newStr=[]\n",
    "vowels=\"aeiouyAEIOUY\"\n",
    "for letter in string:\n",
    "    if letter not in vowels:\n",
    "        newStr.append('.')\n",
    "        newStr.append(letter.lower())\n",
    "for letter in newStr:\n",
    "    print(letter,end=\"\")\n"
   ]
  },
  {
   "cell_type": "code",
   "execution_count": 7,
   "metadata": {},
   "outputs": [
    {
     "name": "stdout",
     "output_type": "stream",
     "text": [
      "3\n",
      "1 1 0\n",
      "1 1 1\n",
      "1 0 0\n",
      "2\n"
     ]
    }
   ],
   "source": [
    "#Problem 231A Team---6\n",
    "n=int(input())\n",
    "solvableProblems=0\n",
    "for i in range(n):\n",
    "    count=0\n",
    "    views=list(map(int,input().strip().split()))[:3]\n",
    "    for view in views:\n",
    "        if(view==1):\n",
    "            count+=1\n",
    "    if(count>1):\n",
    "        solvableProblems+=1\n",
    "print(solvableProblems)"
   ]
  },
  {
   "cell_type": "code",
   "execution_count": 10,
   "metadata": {},
   "outputs": [
    {
     "name": "stdout",
     "output_type": "stream",
     "text": [
      "3 3\n",
      "4\n"
     ]
    }
   ],
   "source": [
    "#Problem 50A Domino Piling---7\n",
    "m,n=map(int,input().split())\n",
    "total=m*n\n",
    "print(int(total/2))"
   ]
  },
  {
   "cell_type": "code",
   "execution_count": 15,
   "metadata": {},
   "outputs": [
    {
     "name": "stdout",
     "output_type": "stream",
     "text": [
      "3\n",
      "x--\n",
      "--x\n",
      "x++\n",
      "-1\n"
     ]
    }
   ],
   "source": [
    "#Problem 282A Bit++ ---8\n",
    "n=int(input())\n",
    "count=0\n",
    "for i in range(n):\n",
    "    operation=input()\n",
    "    for symbol in operation:\n",
    "        if(symbol=='+')):\n",
    "            count+=1\n",
    "            break\n",
    "        elif(symbol=='-')\n",
    "            count-=1\n",
    "            break\n",
    "print(count)"
   ]
  },
  {
   "cell_type": "code",
   "execution_count": 21,
   "metadata": {},
   "outputs": [
    {
     "name": "stdout",
     "output_type": "stream",
     "text": [
      "abcdefg\n",
      "abcdeff\n",
      "1\n"
     ]
    }
   ],
   "source": [
    "#Problem 112A Petya and Strings---9\n",
    "m = input().lower()\n",
    "n = input().lower()\n",
    "if m == n:\n",
    "    print(0)\n",
    "elif m > n :\n",
    "    print(1)\n",
    "else:\n",
    "    print(-1)"
   ]
  },
  {
   "cell_type": "code",
   "execution_count": 26,
   "metadata": {},
   "outputs": [
    {
     "name": "stdout",
     "output_type": "stream",
     "text": [
      "0 0 0 0 0\n",
      "0 0 0 0 0\n",
      "0 0 0 0 0\n",
      "0 0 0 0 0\n",
      "0  0 1  0 0\n",
      "2\n"
     ]
    }
   ],
   "source": [
    "#Problem 263A Beautiful Matrix---10\n",
    "a = []\n",
    "for i in range(5):\n",
    "    a.append([int(j) for j in input().split()])\n",
    "for i in range(5):\n",
    "    for j in range(5):\n",
    "        if(a[i][j]==1):\n",
    "            print(abs(2-i)+abs(2-j))"
   ]
  },
  {
   "cell_type": "code",
   "execution_count": 37,
   "metadata": {},
   "outputs": [
    {
     "name": "stdout",
     "output_type": "stream",
     "text": [
      "3+2+1\n",
      "1+2+3\n"
     ]
    }
   ],
   "source": [
    "#Problem 339A Helpful Maths---11\n",
    "sum=input()\n",
    "sumSort=[]\n",
    "for n in sum:\n",
    "    if(n!='+'):\n",
    "        sumSort.append(n)\n",
    "sumSort.sort()\n",
    "sortedSum=[]\n",
    "for n in sumSort:\n",
    "    sortedSum.append(n)\n",
    "    sortedSum.append('+')\n",
    "print(''.join(sortedSum[:-1]))"
   ]
  },
  {
   "cell_type": "code",
   "execution_count": 42,
   "metadata": {},
   "outputs": [
    {
     "name": "stdout",
     "output_type": "stream",
     "text": [
      "0000000011110101010000001111111111\n",
      "YES\n"
     ]
    }
   ],
   "source": [
    "#Problem 96A Football---12\n",
    "team1 = \"0000000\"\n",
    "team2 = \"1111111\"\n",
    "k = input()\n",
    "if team1 in k or team2 in k:\n",
    "    print(\"YES\")\n",
    "else:\n",
    "    print(\"NO\")"
   ]
  },
  {
   "cell_type": "code",
   "execution_count": 43,
   "metadata": {},
   "outputs": [
    {
     "name": "stdout",
     "output_type": "stream",
     "text": [
      "asdfSD\n",
      "AsdfSD\n"
     ]
    }
   ],
   "source": [
    "#Problem 281A Word Capitalization---13\n",
    "word=input()\n",
    "print(word[0].upper()+word[1:])"
   ]
  },
  {
   "cell_type": "code",
   "execution_count": 47,
   "metadata": {},
   "outputs": [
    {
     "name": "stdout",
     "output_type": "stream",
     "text": [
      "4\n",
      "BRBG\n",
      "0\n"
     ]
    }
   ],
   "source": [
    "#Problem 266A Stones on the table---14\n",
    "t=int(input())\n",
    "stones=input()\n",
    "count=0\n",
    "for i in range(1,t):\n",
    "    if(stones[i-1]==stones[i]):\n",
    "        count+=1\n",
    "print(count)"
   ]
  },
  {
   "cell_type": "code",
   "execution_count": 52,
   "metadata": {},
   "outputs": [
    {
     "name": "stdout",
     "output_type": "stream",
     "text": [
      "wjmzbmr\n",
      "CHAT WITH HER\n"
     ]
    }
   ],
   "source": [
    "#Problem 236A Boy or Girl---15\n",
    "name=input()\n",
    "uniqueLetters=[]\n",
    "for letter in name:\n",
    "    if letter not in uniqueLetters:\n",
    "        uniqueLetters.append(letter)\n",
    "if(len(uniqueLetters)%2==0):\n",
    "    print(\"CHAT WITH HER!\")\n",
    "else:\n",
    "    print(\"IGNORE HIM!\")"
   ]
  },
  {
   "cell_type": "code",
   "execution_count": 61,
   "metadata": {},
   "outputs": [
    {
     "name": "stdout",
     "output_type": "stream",
     "text": [
      "4\n",
      "1 1 1 1\n",
      "2 2 2 2\n",
      "-3 2 -2 -4\n",
      "0 -5 -1 1\n",
      "YES\n"
     ]
    }
   ],
   "source": [
    "#Problem 69A Young Physicist---16\n",
    "n=int(input())\n",
    "arr=[]\n",
    "sum=0\n",
    "for i in range(n):\n",
    "    arr.append([int(j) for j in input().split()])\n",
    "for i in range(2):\n",
    "    for j in range(n):\n",
    "        sum+=arr[j][i]\n",
    "if(sum==0):\n",
    "    print(\"YES\")\n",
    "else:\n",
    "    print(\"NO\")"
   ]
  },
  {
   "cell_type": "code",
   "execution_count": 64,
   "metadata": {},
   "outputs": [
    {
     "name": "stdout",
     "output_type": "stream",
     "text": [
      "16\n",
      "YES\n"
     ]
    }
   ],
   "source": [
    "#Problem 122A Lucky Division---17\n",
    "lucky=[4,7,44,47,74,77,444,447,474,477,744,747,774,777]\n",
    "flag=0\n",
    "number=int(input())\n",
    "for i in range(14):\n",
    "    if(number%lucky[i]==0):\n",
    "        print(\"YES\")\n",
    "        flag=1\n",
    "        break\n",
    "if(flag==0):\n",
    "    print(\"NO\")"
   ]
  },
  {
   "cell_type": "code",
   "execution_count": 66,
   "metadata": {},
   "outputs": [
    {
     "name": "stdout",
     "output_type": "stream",
     "text": [
      "hlelo\n",
      "NO\n"
     ]
    }
   ],
   "source": [
    "#Problem 58A Chat Room---18\n",
    "hello=\"hello\"\n",
    "word=input()\n",
    "count=0\n",
    "flag=0\n",
    "j=0\n",
    "i=0\n",
    "while(j<len(word)):\n",
    "    if(hello[i]==word[j]):\n",
    "        i+=1\n",
    "        j+=1\n",
    "        count+=1\n",
    "    else:\n",
    "        j+=1\n",
    "    if(count==5):\n",
    "        print(\"YES\")\n",
    "        flag=1\n",
    "        break\n",
    "if(flag==0):\n",
    "    print(\"NO\")"
   ]
  },
  {
   "cell_type": "code",
   "execution_count": 76,
   "metadata": {},
   "outputs": [
    {
     "name": "stdout",
     "output_type": "stream",
     "text": [
      "3 17  4\n",
      "13\n"
     ]
    }
   ],
   "source": [
    "#Problem 546A Soldier and Bananas---19\n",
    "k,n,w=map(int,input().split())\n",
    "total=0\n",
    "for i in range(w):\n",
    "    total+=k+k*i\n",
    "if(total-n>=0):\n",
    "    print(total-n)\n",
    "else:\n",
    "    print(0)"
   ]
  },
  {
   "cell_type": "code",
   "execution_count": 77,
   "metadata": {},
   "outputs": [
    {
     "name": "stdout",
     "output_type": "stream",
     "text": [
      "4\n",
      "0 3\n",
      "2 5\n",
      "4 2\n",
      "4 0\n",
      "6\n"
     ]
    }
   ],
   "source": [
    "#20) Problem 116A Tram\n",
    "stops=int(input())\n",
    "maxP=0\n",
    "curP=0\n",
    "for i in range(stops):\n",
    "    outP,inP=map(int,input().split())\n",
    "    curP=(curP-outP)+inP\n",
    "    if(curP>maxP):\n",
    "        maxP=curP\n",
    "print(maxP)"
   ]
  },
  {
   "cell_type": "code",
   "execution_count": 90,
   "metadata": {},
   "outputs": [
    {
     "name": "stdout",
     "output_type": "stream",
     "text": [
      "5\n",
      "4 2 2 2 2\n",
      "3\n"
     ]
    }
   ],
   "source": [
    "#21) Problem 160A Twins\n",
    "n=input()\n",
    "l = list(map(int,input().split()))\n",
    "l = sorted(l)\n",
    "s = 0\n",
    "c = 0\n",
    "cnt =0\n",
    "for i in l:\n",
    "    s+=i\n",
    "for i in l[::-1]:\n",
    "    c+=i\n",
    "    cnt+=1\n",
    "    if c >(s/2):\n",
    "        break\n",
    "print(cnt)"
   ]
  },
  {
   "cell_type": "code",
   "execution_count": 3,
   "metadata": {},
   "outputs": [
    {
     "name": "stdout",
     "output_type": "stream",
     "text": [
      "4 9\n",
      "3\n"
     ]
    }
   ],
   "source": [
    "#22) Problem 791A Bear and Big brother\n",
    "lw,bw=map(int,input().split())\n",
    "count=0\n",
    "while(lw<=bw):\n",
    "    lw*=3\n",
    "    bw*=2\n",
    "    count+=1\n",
    "    if(lw>bw):\n",
    "        break\n",
    "print(count)"
   ]
  },
  {
   "cell_type": "code",
   "execution_count": 5,
   "metadata": {},
   "outputs": [
    {
     "name": "stdout",
     "output_type": "stream",
     "text": [
      "a+b=c\n",
      "NO\n"
     ]
    }
   ],
   "source": [
    "#23) Problem 133A HQ9+\n",
    "word=input()\n",
    "if('H' in word or 'Q' in word or '9' in  word):\n",
    "    print(\"YES\")\n",
    "else:\n",
    "    print(\"NO\")"
   ]
  },
  {
   "cell_type": "code",
   "execution_count": 1,
   "metadata": {},
   "outputs": [
    {
     "name": "stdout",
     "output_type": "stream",
     "text": [
      "5\n",
      "1  2 4 3 3\n"
     ]
    },
    {
     "ename": "KeyboardInterrupt",
     "evalue": "",
     "output_type": "error",
     "traceback": [
      "\u001b[1;31m---------------------------------------------------------------------------\u001b[0m",
      "\u001b[1;31mKeyboardInterrupt\u001b[0m                         Traceback (most recent call last)",
      "\u001b[1;32m<ipython-input-1-4d42c74016d3>\u001b[0m in \u001b[0;36m<module>\u001b[1;34m\u001b[0m\n\u001b[0;32m      6\u001b[0m \u001b[1;32mwhile\u001b[0m\u001b[1;33m(\u001b[0m\u001b[0mlen\u001b[0m\u001b[1;33m(\u001b[0m\u001b[0mgroups\u001b[0m\u001b[1;33m)\u001b[0m\u001b[1;33m!=\u001b[0m\u001b[1;36m0\u001b[0m\u001b[1;33m)\u001b[0m\u001b[1;33m:\u001b[0m\u001b[1;33m\u001b[0m\u001b[1;33m\u001b[0m\u001b[0m\n\u001b[0;32m      7\u001b[0m     \u001b[1;32mfor\u001b[0m \u001b[0mgroup\u001b[0m \u001b[1;32min\u001b[0m \u001b[0mgroups\u001b[0m\u001b[1;33m:\u001b[0m\u001b[1;33m\u001b[0m\u001b[1;33m\u001b[0m\u001b[0m\n\u001b[1;32m----> 8\u001b[1;33m         \u001b[0msum\u001b[0m\u001b[1;33m+=\u001b[0m\u001b[0mgroup\u001b[0m\u001b[1;33m\u001b[0m\u001b[1;33m\u001b[0m\u001b[0m\n\u001b[0m\u001b[0;32m      9\u001b[0m         \u001b[1;32mif\u001b[0m\u001b[1;33m(\u001b[0m\u001b[0msum\u001b[0m\u001b[1;33m>\u001b[0m\u001b[1;36m4\u001b[0m\u001b[1;33m)\u001b[0m\u001b[1;33m:\u001b[0m\u001b[1;33m\u001b[0m\u001b[1;33m\u001b[0m\u001b[0m\n\u001b[0;32m     10\u001b[0m             \u001b[0msum\u001b[0m\u001b[1;33m-=\u001b[0m\u001b[0mgroup\u001b[0m\u001b[1;33m\u001b[0m\u001b[1;33m\u001b[0m\u001b[0m\n",
      "\u001b[1;31mKeyboardInterrupt\u001b[0m: "
     ]
    }
   ],
   "source": [
    "########################################## SOLVE THIS AFTER GREEDY PROGRAMMING ####################################\n",
    "#24) Problem 158B Taxi \n",
    "n=int(input())\n",
    "groups=list(map(int,input().split()))[:n]\n",
    "groups.sort(reverse=True)\n",
    "sum=0\n",
    "count=0\n",
    "while(len(groups)!=0):\n",
    "    for group in groups:\n",
    "        sum+=group\n",
    "        if(sum>4):\n",
    "            sum-=group\n",
    "        elif(sum==4):\n",
    "            groups.remove(group)\n",
    "            break\n",
    "        else:\n",
    "            continue\n",
    "    count+=1\n",
    "    sum=0\n",
    "print(count)"
   ]
  },
  {
   "cell_type": "code",
   "execution_count": 5,
   "metadata": {},
   "outputs": [
    {
     "name": "stdout",
     "output_type": "stream",
     "text": [
      "12\n",
      "3\n"
     ]
    }
   ],
   "source": [
    "#25) Problem 617A Elephant\n",
    "distance=int(input())\n",
    "steps=distance//5\n",
    "if(distance%5==0):\n",
    "    print(steps)\n",
    "else:\n",
    "    print(steps+1)"
   ]
  },
  {
   "cell_type": "code",
   "execution_count": 2,
   "metadata": {},
   "outputs": [
    {
     "name": "stdout",
     "output_type": "stream",
     "text": [
      "1000000000 9\n",
      "1\n"
     ]
    }
   ],
   "source": [
    "#26) Problem 977A Wrong Subtraction\n",
    "number,k = map(int,input().split())\n",
    "count=0\n",
    "for i in range(k):\n",
    "    if(number%10!=0):\n",
    "        number-=1\n",
    "        count+=1\n",
    "    else:\n",
    "        number=number//10\n",
    "        count+=1\n",
    "print(number)"
   ]
  },
  {
   "cell_type": "code",
   "execution_count": 9,
   "metadata": {},
   "outputs": [
    {
     "name": "stdout",
     "output_type": "stream",
     "text": [
      "5 1\n",
      "BGGBG\n"
     ]
    },
    {
     "ename": "TypeError",
     "evalue": "'str' object does not support item assignment",
     "output_type": "error",
     "traceback": [
      "\u001b[1;31m---------------------------------------------------------------------------\u001b[0m",
      "\u001b[1;31mTypeError\u001b[0m                                 Traceback (most recent call last)",
      "\u001b[1;32m<ipython-input-9-be856a221a35>\u001b[0m in \u001b[0;36m<module>\u001b[1;34m\u001b[0m\n\u001b[0;32m      6\u001b[0m     \u001b[1;32mwhile\u001b[0m\u001b[1;33m(\u001b[0m\u001b[0mj\u001b[0m\u001b[1;33m<\u001b[0m\u001b[0mn\u001b[0m\u001b[1;33m)\u001b[0m\u001b[1;33m:\u001b[0m\u001b[1;33m\u001b[0m\u001b[1;33m\u001b[0m\u001b[0m\n\u001b[0;32m      7\u001b[0m         \u001b[1;32mif\u001b[0m\u001b[1;33m(\u001b[0m\u001b[0mqueue\u001b[0m\u001b[1;33m[\u001b[0m\u001b[0mj\u001b[0m\u001b[1;33m]\u001b[0m\u001b[1;33m==\u001b[0m\u001b[1;34m'B'\u001b[0m \u001b[1;32mand\u001b[0m \u001b[0mqueue\u001b[0m\u001b[1;33m[\u001b[0m\u001b[0mj\u001b[0m\u001b[1;33m+\u001b[0m\u001b[1;36m1\u001b[0m\u001b[1;33m]\u001b[0m\u001b[1;33m==\u001b[0m\u001b[1;34m'G'\u001b[0m\u001b[1;33m)\u001b[0m\u001b[1;33m:\u001b[0m\u001b[1;33m\u001b[0m\u001b[1;33m\u001b[0m\u001b[0m\n\u001b[1;32m----> 8\u001b[1;33m             \u001b[0mqueue\u001b[0m\u001b[1;33m[\u001b[0m\u001b[0mj\u001b[0m\u001b[1;33m]\u001b[0m\u001b[1;33m,\u001b[0m\u001b[0mqueue\u001b[0m\u001b[1;33m[\u001b[0m\u001b[0mj\u001b[0m\u001b[1;33m+\u001b[0m\u001b[1;36m1\u001b[0m\u001b[1;33m]\u001b[0m\u001b[1;33m=\u001b[0m\u001b[0mqueue\u001b[0m\u001b[1;33m[\u001b[0m\u001b[0mj\u001b[0m\u001b[1;33m+\u001b[0m\u001b[1;36m1\u001b[0m\u001b[1;33m]\u001b[0m\u001b[1;33m,\u001b[0m\u001b[0mqueue\u001b[0m\u001b[1;33m[\u001b[0m\u001b[0mj\u001b[0m\u001b[1;33m]\u001b[0m\u001b[1;33m\u001b[0m\u001b[1;33m\u001b[0m\u001b[0m\n\u001b[0m\u001b[0;32m      9\u001b[0m             \u001b[0mj\u001b[0m\u001b[1;33m+=\u001b[0m\u001b[1;36m2\u001b[0m\u001b[1;33m\u001b[0m\u001b[1;33m\u001b[0m\u001b[0m\n\u001b[0;32m     10\u001b[0m         \u001b[1;32melse\u001b[0m\u001b[1;33m:\u001b[0m\u001b[1;33m\u001b[0m\u001b[1;33m\u001b[0m\u001b[0m\n",
      "\u001b[1;31mTypeError\u001b[0m: 'str' object does not support item assignment"
     ]
    }
   ],
   "source": [
    "#27) Problem 266B Queue at the school\n",
    "n,t=map(int,input().split())\n",
    "queue=input()\n",
    "for i in range(t):\n",
    "    j=0\n",
    "    while(j<n):\n",
    "        if(queue[j]=='B' and queue[j+1]=='G'):\n",
    "            queue[j],queue[j+1]=queue[j+1],queue[j]\n",
    "            j+=2\n",
    "        else:\n",
    "            j+=1\n",
    "print(queue)\n"
   ]
  },
  {
   "cell_type": "code",
   "execution_count": 17,
   "metadata": {},
   "outputs": [
    {
     "name": "stdout",
     "output_type": "stream",
     "text": [
      "7747774\n",
      "YES\n"
     ]
    }
   ],
   "source": [
    "#28) Problem 110A Nearly Lucky Number\n",
    "number=input()\n",
    "count=0\n",
    "lucky=[4,7,44,47,74,77,444,447,474,477,744,747,774,777]\n",
    "for digit in number:\n",
    "    if(digit=='4' or digit=='7'):\n",
    "        count+=1\n",
    "if(count in lucky):\n",
    "    print(\"YES\")\n",
    "else:\n",
    "    print(\"NO\")"
   ]
  },
  {
   "cell_type": "code",
   "execution_count": 20,
   "metadata": {},
   "outputs": [
    {
     "name": "stdout",
     "output_type": "stream",
     "text": [
      "cAPS\n",
      "Caps\n"
     ]
    }
   ],
   "source": [
    "#29) Problem 131A Caps Lock\n",
    "word=input()\n",
    "print(word[0].upper()+word[1:].lower())"
   ]
  },
  {
   "cell_type": "code",
   "execution_count": 3,
   "metadata": {},
   "outputs": [
    {
     "name": "stdout",
     "output_type": "stream",
     "text": [
      "3\n",
      "3 5\n",
      "99 100\n",
      "98 100\n",
      "2\n"
     ]
    }
   ],
   "source": [
    "#30) Problem 467A George and Accommodation\n",
    "n=int(input())\n",
    "count=0\n",
    "for i in range(n):\n",
    "    free,total=map(int,input().split())\n",
    "    if(total-free>=2):\n",
    "        count+=1\n",
    "print(count)"
   ]
  },
  {
   "cell_type": "markdown",
   "metadata": {},
   "source": [
    "#31)Problem 41A Translation\n",
    "word1=input()\n",
    "word2=input()\n",
    "if(word1==word2[::-1]):\n",
    "    print(\"YES\")\n",
    "else:\n",
    "    print(\"NO\")"
   ]
  },
  {
   "cell_type": "code",
   "execution_count": 4,
   "metadata": {},
   "outputs": [
    {
     "name": "stdout",
     "output_type": "stream",
     "text": [
      "sdf\n",
      "asdf\n",
      "NO\n"
     ]
    }
   ],
   "source": [
    "#31)Problem 41A Translation \n",
    "word1=input()\n",
    "word2=input()\n",
    "if(word1==word2[::-1]):\n",
    "    print(\"YES\")\n",
    "else:\n",
    "    print(\"NO\")"
   ]
  },
  {
   "cell_type": "code",
   "execution_count": null,
   "metadata": {},
   "outputs": [],
   "source": [
    "t=int(input())\n",
    "for i in range(t):\n",
    "    a,b,c,d=map(int,input().split())\n",
    "    46,116,703,504"
   ]
  },
  {
   "cell_type": "code",
   "execution_count": 13,
   "metadata": {},
   "outputs": [
    {
     "name": "stdout",
     "output_type": "stream",
     "text": [
      "7 \n",
      "100 3 4\n",
      "YES\n",
      "189 3 4\n",
      "NO\n",
      "64 2 3\n",
      "NO\n",
      "63 2 3\n",
      "YES\n",
      "30 27 7\n",
      "YES\n",
      "10 9 1\n",
      "YES\n",
      "69117 21 2\n",
      "YES\n"
     ]
    }
   ],
   "source": [
    "import math\n",
    "t=int(input())\n",
    "for i in range(t):\n",
    "    flag=0\n",
    "    x,n,m=map(int,input().split())\n",
    "    xx=x\n",
    "    nn=n\n",
    "    mm=m\n",
    "    for i in range(n):\n",
    "        x=math.floor(x/2)+10\n",
    "    for i in range(m):\n",
    "        x=x-10\n",
    "    if(x>0):\n",
    "        flag=0\n",
    "    else:\n",
    "        flag=1\n",
    "    if(xx<=m*10):\n",
    "        flag=1\n",
    "    if(flag==1):\n",
    "        print(\"YES\")\n",
    "    else:\n",
    "        print(\"NO\")"
   ]
  },
  {
   "cell_type": "code",
   "execution_count": 4,
   "metadata": {},
   "outputs": [
    {
     "name": "stdout",
     "output_type": "stream",
     "text": [
      "21\n",
      "3\n"
     ]
    }
   ],
   "source": [
    "def calculateSum(n): \n",
    "     sum = 0\n",
    "     for i in range (0, n): \n",
    "         sum = sum+ (1 << i) \n",
    "     return sum\n",
    "n=int(input())\n",
    "x=1\n",
    "sumIndex=1\n",
    "while(1):\n",
    "    sumS=calculateSum(sumIndex)\n",
    "    total=sumS*x\n",
    "    if(n==(total)):\n",
    "        print(x)\n",
    "        break\n",
    "    elif(n<total):\n",
    "        sumIndex-=1\n",
    "        x+=1\n",
    "    else:\n",
    "        sumIndex+=1\n",
    "        \n",
    "\n",
    "    \n"
   ]
  },
  {
   "cell_type": "code",
   "execution_count": null,
   "metadata": {},
   "outputs": [],
   "source": [
    "def makeArray(n,startEven,startOdd):\n",
    "    arr=[]\n",
    "    for i in range(n/2):\n",
    "        arr.append(startEven)\n",
    "        startEven+=2\n",
    "    for i in range(n/2,n):\n",
    "        arr.append(startOdd)\n",
    "        startOdd+=2\n",
    "    return arr\n",
    "\n",
    "def arrSum(index):\n",
    "    \n",
    "    \n",
    "t=int(input())\n",
    "for i in range(t):\n",
    "    n=int(input())\n",
    "    if((n/2)%2==0):\n",
    "        while(1):\n",
    "            arr=[]\n",
    "            startEven=2\n",
    "            startOdd=1\n",
    "            arr=makeArray(n,startEven,startOdd)\n",
    "            if()\n",
    "    else:\n",
    "        print(\"NO\")"
   ]
  },
  {
   "cell_type": "code",
   "execution_count": null,
   "metadata": {},
   "outputs": [],
   "source": [
    "t=int(input())\n",
    "for i in range(t):\n",
    "    size,k=map(int,input().split())\n",
    "    arr=list(map(int,input().split()))\n",
    "    sum=[]\n",
    "    i=0\n",
    "    while(i<size/2):\n",
    "        "
   ]
  },
  {
   "cell_type": "code",
   "execution_count": 24,
   "metadata": {},
   "outputs": [
    {
     "name": "stdout",
     "output_type": "stream",
     "text": [
      "8\n",
      "1 4\n",
      "16\n",
      "4 2\n",
      "16\n",
      "1 1\n",
      "4\n",
      "100 99\n",
      "39204\n",
      "5 56 2\n"
     ]
    },
    {
     "ename": "ValueError",
     "evalue": "too many values to unpack (expected 2)",
     "output_type": "error",
     "traceback": [
      "\u001b[1;31m---------------------------------------------------------------------------\u001b[0m",
      "\u001b[1;31mValueError\u001b[0m                                Traceback (most recent call last)",
      "\u001b[1;32m<ipython-input-24-1919cbb49699>\u001b[0m in \u001b[0;36m<module>\u001b[1;34m\u001b[0m\n\u001b[0;32m      2\u001b[0m \u001b[0mt\u001b[0m\u001b[1;33m=\u001b[0m\u001b[0mint\u001b[0m\u001b[1;33m(\u001b[0m\u001b[0minput\u001b[0m\u001b[1;33m(\u001b[0m\u001b[1;33m)\u001b[0m\u001b[1;33m)\u001b[0m\u001b[1;33m\u001b[0m\u001b[1;33m\u001b[0m\u001b[0m\n\u001b[0;32m      3\u001b[0m \u001b[1;32mfor\u001b[0m \u001b[0mi\u001b[0m \u001b[1;32min\u001b[0m \u001b[0mrange\u001b[0m\u001b[1;33m(\u001b[0m\u001b[0mt\u001b[0m\u001b[1;33m)\u001b[0m\u001b[1;33m:\u001b[0m\u001b[1;33m\u001b[0m\u001b[1;33m\u001b[0m\u001b[0m\n\u001b[1;32m----> 4\u001b[1;33m     \u001b[0ma\u001b[0m\u001b[1;33m,\u001b[0m\u001b[0mb\u001b[0m\u001b[1;33m=\u001b[0m\u001b[0mmap\u001b[0m\u001b[1;33m(\u001b[0m\u001b[0mint\u001b[0m\u001b[1;33m,\u001b[0m\u001b[0minput\u001b[0m\u001b[1;33m(\u001b[0m\u001b[1;33m)\u001b[0m\u001b[1;33m.\u001b[0m\u001b[0msplit\u001b[0m\u001b[1;33m(\u001b[0m\u001b[1;33m)\u001b[0m\u001b[1;33m)\u001b[0m\u001b[1;33m\u001b[0m\u001b[1;33m\u001b[0m\u001b[0m\n\u001b[0m\u001b[0;32m      5\u001b[0m     \u001b[1;32mif\u001b[0m\u001b[1;33m(\u001b[0m\u001b[0ma\u001b[0m\u001b[1;33m==\u001b[0m\u001b[0mb\u001b[0m\u001b[1;33m)\u001b[0m\u001b[1;33m:\u001b[0m\u001b[1;33m\u001b[0m\u001b[1;33m\u001b[0m\u001b[0m\n\u001b[0;32m      6\u001b[0m         \u001b[0mres\u001b[0m\u001b[1;33m=\u001b[0m\u001b[1;33m(\u001b[0m\u001b[0ma\u001b[0m\u001b[1;33m+\u001b[0m\u001b[0mb\u001b[0m\u001b[1;33m)\u001b[0m\u001b[1;33m*\u001b[0m\u001b[1;33m(\u001b[0m\u001b[0ma\u001b[0m\u001b[1;33m+\u001b[0m\u001b[0mb\u001b[0m\u001b[1;33m)\u001b[0m\u001b[1;33m\u001b[0m\u001b[1;33m\u001b[0m\u001b[0m\n",
      "\u001b[1;31mValueError\u001b[0m: too many values to unpack (expected 2)"
     ]
    }
   ],
   "source": [
    "import math\n",
    "t=int(input())\n",
    "for i in range(t):\n",
    "    a,b=map(int,input().split())\n",
    "    if(a==b):\n",
    "        res=(a+b)*(a+b)\n",
    "    elif(min(a,b)*2>max(a,b)):\n",
    "        res=2*min(a,b)\n",
    "        res*=res\n",
    "    elif(min(a,b)*2==max(a,b)):\n",
    "        res=max(a,b)\n",
    "        res*=res\n",
    "    else:          \n",
    "        res=max(a,b)\n",
    "        res*=res        \n",
    "    print(res)"
   ]
  },
  {
   "cell_type": "code",
   "execution_count": 5,
   "metadata": {},
   "outputs": [
    {
     "name": "stdout",
     "output_type": "stream",
     "text": [
      "7\n",
      "4\n",
      "11 14 16 12\n",
      "YES\n",
      "6\n",
      "1 6 3 10 5 8\n",
      "YES\n",
      "6\n",
      "1 12 3 10 5 8\n",
      "NO\n",
      "4\n",
      "1 2 5 6\n",
      "YES\n",
      "2\n",
      "1 8\n",
      "NO\n",
      "4\n",
      "1 1 1 1\n",
      "YES\n",
      "2\n",
      "12 13\n",
      "YES\n"
     ]
    }
   ],
   "source": [
    "t=int(input())\n",
    "for i in range(t):\n",
    "    a=[]\n",
    "    b=[]\n",
    "    n=int(input())\n",
    "    ar=list(map(int,input().split()))\n",
    "    for i in range(n):\n",
    "        if(ar[i]%2==0):\n",
    "            a.append(ar[i])\n",
    "        else:\n",
    "            b.append(ar[i])\n",
    "    if(len(a)%2==0):\n",
    "        print(\"YES\")\n",
    "    else:\n",
    "        ar.sort()\n",
    "        i=0\n",
    "        flag=1\n",
    "        while(i<n-1):\n",
    "            if(ar[i]%2==ar[i+1]%2 or ar[i+1]-ar[i]==1):\n",
    "                i+=2\n",
    "            else:\n",
    "                flag=0\n",
    "                break\n",
    "        if(flag==0):\n",
    "            print(\"NO\")\n",
    "        else:\n",
    "            print(\"YES\")"
   ]
  },
  {
   "cell_type": "code",
   "execution_count": 33,
   "metadata": {},
   "outputs": [
    {
     "name": "stdout",
     "output_type": "stream",
     "text": [
      "7 \n",
      "4\n",
      "11 14 16 12\n",
      "-2\n",
      "1 74 3 \n"
     ]
    },
    {
     "ename": "ValueError",
     "evalue": "invalid literal for int() with base 10: '1 74 3 '",
     "output_type": "error",
     "traceback": [
      "\u001b[1;31m---------------------------------------------------------------------------\u001b[0m",
      "\u001b[1;31mValueError\u001b[0m                                Traceback (most recent call last)",
      "\u001b[1;32m<ipython-input-33-34b679f3e8f9>\u001b[0m in \u001b[0;36m<module>\u001b[1;34m\u001b[0m\n\u001b[0;32m      1\u001b[0m \u001b[0mt\u001b[0m\u001b[1;33m=\u001b[0m\u001b[0mint\u001b[0m\u001b[1;33m(\u001b[0m\u001b[0minput\u001b[0m\u001b[1;33m(\u001b[0m\u001b[1;33m)\u001b[0m\u001b[1;33m)\u001b[0m\u001b[1;33m\u001b[0m\u001b[1;33m\u001b[0m\u001b[0m\n\u001b[0;32m      2\u001b[0m \u001b[1;32mfor\u001b[0m \u001b[0mi\u001b[0m \u001b[1;32min\u001b[0m \u001b[0mrange\u001b[0m\u001b[1;33m(\u001b[0m\u001b[0mt\u001b[0m\u001b[1;33m)\u001b[0m\u001b[1;33m:\u001b[0m\u001b[1;33m\u001b[0m\u001b[1;33m\u001b[0m\u001b[0m\n\u001b[1;32m----> 3\u001b[1;33m     \u001b[0mn\u001b[0m\u001b[1;33m=\u001b[0m\u001b[0mint\u001b[0m\u001b[1;33m(\u001b[0m\u001b[0minput\u001b[0m\u001b[1;33m(\u001b[0m\u001b[1;33m)\u001b[0m\u001b[1;33m)\u001b[0m\u001b[1;33m\u001b[0m\u001b[1;33m\u001b[0m\u001b[0m\n\u001b[0m\u001b[0;32m      4\u001b[0m     \u001b[0mar\u001b[0m\u001b[1;33m=\u001b[0m\u001b[0mlist\u001b[0m\u001b[1;33m(\u001b[0m\u001b[0mmap\u001b[0m\u001b[1;33m(\u001b[0m\u001b[0mint\u001b[0m\u001b[1;33m,\u001b[0m\u001b[0minput\u001b[0m\u001b[1;33m(\u001b[0m\u001b[1;33m)\u001b[0m\u001b[1;33m.\u001b[0m\u001b[0msplit\u001b[0m\u001b[1;33m(\u001b[0m\u001b[1;33m)\u001b[0m\u001b[1;33m)\u001b[0m\u001b[1;33m)\u001b[0m\u001b[1;33m\u001b[0m\u001b[1;33m\u001b[0m\u001b[0m\n\u001b[0;32m      5\u001b[0m     \u001b[0mar\u001b[0m\u001b[1;33m.\u001b[0m\u001b[0msort\u001b[0m\u001b[1;33m(\u001b[0m\u001b[0mreverse\u001b[0m\u001b[1;33m=\u001b[0m\u001b[1;32mTrue\u001b[0m\u001b[1;33m)\u001b[0m\u001b[1;33m\u001b[0m\u001b[1;33m\u001b[0m\u001b[0m\n",
      "\u001b[1;31mValueError\u001b[0m: invalid literal for int() with base 10: '1 74 3 '"
     ]
    }
   ],
   "source": [
    "t=int(input())\n",
    "for i in range(t):\n",
    "    n=int(input())\n",
    "    ar=list(map(int,input().split()))\n",
    "    ar.sort(reverse=True)\n",
    "    minI=ar[1]-ar[0]\n",
    "    for i in range(1,n-1):\n",
    "        diff=ar[i+1]-ar[i]\n",
    "        minI=min(minI,diff)\n",
    "    print(minI)"
   ]
  },
  {
   "cell_type": "code",
   "execution_count": 32,
   "metadata": {},
   "outputs": [
    {
     "name": "stdout",
     "output_type": "stream",
     "text": [
      "[87, 12, 6, 5, 3]\n"
     ]
    }
   ],
   "source": [
    "ar=[3,5,12,6,87]\n",
    "ar.sort(reverse=True)\n",
    "print(ar)"
   ]
  },
  {
   "cell_type": "code",
   "execution_count": null,
   "metadata": {},
   "outputs": [],
   "source": []
  }
 ],
 "metadata": {
  "kernelspec": {
   "display_name": "Python 3",
   "language": "python",
   "name": "python3"
  },
  "language_info": {
   "codemirror_mode": {
    "name": "ipython",
    "version": 3
   },
   "file_extension": ".py",
   "mimetype": "text/x-python",
   "name": "python",
   "nbconvert_exporter": "python",
   "pygments_lexer": "ipython3",
   "version": "3.7.9"
  }
 },
 "nbformat": 4,
 "nbformat_minor": 2
}
