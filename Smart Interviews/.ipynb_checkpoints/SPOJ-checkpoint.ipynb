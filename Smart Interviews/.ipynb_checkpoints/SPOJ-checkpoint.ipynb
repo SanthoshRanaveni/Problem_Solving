{
 "cells": [
  {
   "cell_type": "code",
   "execution_count": 1,
   "metadata": {},
   "outputs": [
    {
     "name": "stdout",
     "output_type": "stream",
     "text": [
      "1\n",
      "2\n",
      "88\n",
      "42\n",
      "1\n",
      "2\n",
      "88\n"
     ]
    }
   ],
   "source": [
    "#Life, the Universe, and Everything\n",
    "a=[]\n",
    "while(1):\n",
    "    n=int(input())\n",
    "    if(n!=42):\n",
    "        a.append(n)\n",
    "    else:\n",
    "        for i in range(len(a)):\n",
    "            print(a[i])\n",
    "        break\n",
    "        "
   ]
  },
  {
   "cell_type": "code",
   "execution_count": null,
   "metadata": {},
   "outputs": [
    {
     "name": "stdout",
     "output_type": "stream",
     "text": [
      "6\n",
      "3\n",
      "0\n",
      "60\n",
      "14\n",
      "100\n",
      "24\n",
      "1024\n",
      "253\n",
      "23456\n",
      "5861\n",
      "8735373\n"
     ]
    }
   ],
   "source": [
    "#FACT Factorial\n",
    "t=int(input())\n",
    "for i in range(t):\n",
    "    n=int(input())\n",
    "    if(n==0):\n",
    "        print(\"1\")\n",
    "    elif(n==1):\n",
    "        print(\"1\")\n",
    "\n",
    "    else:\n",
    "        sum=1\n",
    "        for i in range(n,1,-1):\n",
    "            sum*=i\n",
    "        strr=str(sum)\n",
    "        count=0\n",
    "        i=len(strr)-1\n",
    "        while(i>0):\n",
    "            if(strr[i]=='0'):\n",
    "                count+=1\n",
    "                i-=1\n",
    "            else:\n",
    "                break\n",
    "        print(count)"
   ]
  },
  {
   "cell_type": "code",
   "execution_count": 4,
   "metadata": {},
   "outputs": [
    {
     "name": "stdout",
     "output_type": "stream",
     "text": [
      "2\n",
      "1 1  1 1 1 1\n",
      "0.1179\n",
      "1000 1000 1000 3 4 5\n",
      "1999.9947\n"
     ]
    }
   ],
   "source": [
    "#Pyramids\n",
    "from  math import *\n",
    "def findVolume(u, v, w, U, V, W) :  \n",
    "    uPow = pow(u, 2)  \n",
    "    vPow = pow(v, 2)  \n",
    "    wPow = pow(w, 2)  \n",
    "    UPow = pow(U, 2)  \n",
    "    VPow = pow(V, 2)  \n",
    "    WPow = pow(W, 2)  \n",
    "    \n",
    "    a = (4 * (uPow * vPow * wPow)  \n",
    "        - uPow * pow((vPow + wPow - UPow), 2)  \n",
    "        - vPow * pow((wPow + uPow - VPow), 2)  \n",
    "        - wPow * pow((uPow + vPow - WPow), 2)  \n",
    "        + (vPow + wPow - UPow) * (wPow + uPow - VPow)  \n",
    "        * (uPow + vPow - WPow)) \n",
    "          \n",
    "    vol = sqrt(a) \n",
    "    vol /= 12\n",
    "    \n",
    "    print(round(vol,4))\n",
    "\n",
    "t=int(input())\n",
    "for i in range(t):\n",
    "    u,v,w,U,V,W=map(int,input().split())\n",
    "    findVolume(u,v,w,U,V,W)"
   ]
  },
  {
   "cell_type": "code",
   "execution_count": 6,
   "metadata": {},
   "outputs": [
    {
     "name": "stdout",
     "output_type": "stream",
     "text": [
      "3\n",
      "24 1\n",
      "34\n",
      "4358 754\n",
      "1998\n",
      "305 794\n",
      "1\n"
     ]
    }
   ],
   "source": [
    "#Adding Reversed\n",
    "def rev(n):\n",
    "    num=0\n",
    "    while(n>0):\n",
    "        rem=n%10\n",
    "        num=(num*10)+rem\n",
    "        n=n//10\n",
    "    return num\n",
    "t=int(input())\n",
    "for i in range(t):\n",
    "    a,b=map(int,input().split())\n",
    "    a=rev(a)\n",
    "    b=rev(b)\n",
    "    print(rev(a+b))"
   ]
  },
  {
   "cell_type": "code",
   "execution_count": 7,
   "metadata": {},
   "outputs": [
    {
     "name": "stdout",
     "output_type": "stream",
     "text": [
      "4\n",
      "1\n",
      "1\n",
      "2\n",
      "2\n",
      "3\n",
      "6\n",
      "5\n",
      "120\n"
     ]
    }
   ],
   "source": [
    "#Small Factorials\n",
    "t=int(input())\n",
    "for i in range(t):\n",
    "    n=int(input())\n",
    "    if(n==0):\n",
    "        print(\"1\")\n",
    "    elif(n==1):\n",
    "        print(\"1\")\n",
    "\n",
    "    else:\n",
    "        sum=1\n",
    "        for i in range(n,1,-1):\n",
    "            sum*=i\n",
    "        print(sum)"
   ]
  },
  {
   "cell_type": "code",
   "execution_count": 10,
   "metadata": {},
   "outputs": [
    {
     "name": "stdout",
     "output_type": "stream",
     "text": [
      "2\n",
      "10 10 8 8\n",
      "Escape is possible\n",
      "8 8 10 10\n",
      "Box cannot be dropped\n"
     ]
    }
   ],
   "source": [
    "t=int(input())\n",
    "for i in range(t):\n",
    "    a,b,x,y=map(int,input().split())\n",
    "    if(min(a,b)>=max(x,y)):\n",
    "        if (a*b)>=(x*y):\n",
    "            print(\"Escape is possible.\")\n",
    "        else:\n",
    "            print(\"Box cannot be dropped.\")\n",
    "    else:\n",
    "        print(\"Box cannot be dropped.\")"
   ]
  },
  {
   "cell_type": "code",
   "execution_count": null,
   "metadata": {},
   "outputs": [],
   "source": [
    "#MAYA\n",
    "t=int(input())"
   ]
  },
  {
   "cell_type": "code",
   "execution_count": 1,
   "metadata": {},
   "outputs": [
    {
     "name": "stdout",
     "output_type": "stream",
     "text": [
      "2\n",
      "3\n",
      "14\n",
      "8\n",
      "204\n"
     ]
    }
   ],
   "source": [
    "#Feynman no of squares\n",
    "t=int(input())\n",
    "for i in range(t):\n",
    "    n=int(input())\n",
    "    ans=(n*(n+1)*((2*n)+1))//6\n",
    "    print(ans)"
   ]
  },
  {
   "cell_type": "code",
   "execution_count": 4,
   "metadata": {},
   "outputs": [
    {
     "name": "stdout",
     "output_type": "stream",
     "text": [
      "4 7 10\n",
      "AP 13\n",
      "2 6 18\n",
      "GP 54\n",
      "0 0 0\n"
     ]
    }
   ],
   "source": [
    "#What's next\n",
    "while(1):\n",
    "    arr=list(map(int,input().split()))\n",
    "    if(arr[0]==0 and  arr[1]==0 and arr[2]==0):\n",
    "            break\n",
    "    else:\n",
    "        if((arr[1]-arr[0])==(arr[2]-arr[1])):\n",
    "            r=arr[1]-arr[0]\n",
    "            print(\"AP\",arr[0]+(3*r))\n",
    "        else:\n",
    "            print(\"GP\",arr[0]*(pow(r,3)))"
   ]
  },
  {
   "cell_type": "code",
   "execution_count": 2,
   "metadata": {},
   "outputs": [
    {
     "name": "stdout",
     "output_type": "stream",
     "text": [
      "2\n",
      "2\n",
      "7\n",
      "7\n",
      "77\n"
     ]
    }
   ],
   "source": [
    "#CRDS Cards\n",
    "def hoc(level):\n",
    "    if(level==1):\n",
    "        return 2\n",
    "    return hoc(level-1) + ((level-1)*3)+2\n",
    "\n",
    "t=int(input())\n",
    "for i in range(t):\n",
    "    level=int(input())\n",
    "    print(hoc(level))"
   ]
  },
  {
   "cell_type": "code",
   "execution_count": 8,
   "metadata": {},
   "outputs": [
    {
     "name": "stdout",
     "output_type": "stream",
     "text": [
      "3\n",
      "2\n",
      "7\n",
      "3\n",
      "18\n",
      "4\n",
      "35\n"
     ]
    }
   ],
   "source": [
    "#CRDS Cards\n",
    "t=int(input())\n",
    "for i in range(t):\n",
    "    level=int(input())\n",
    "    ans=2\n",
    "    if(level==1):\n",
    "        print(ans)\n",
    "    else:\n",
    "        for i in range(2,level+1):\n",
    "            cards=((level-1)*3)+2\n",
    "            ans+=cards\n",
    "    print(ans)"
   ]
  },
  {
   "cell_type": "code",
   "execution_count": 3,
   "metadata": {},
   "outputs": [
    {
     "name": "stdout",
     "output_type": "stream",
     "text": [
      "4\n",
      "TAK\n"
     ]
    }
   ],
   "source": [
    "#Will it ever stop\n",
    "n=int(input())\n",
    "if(n%2==0):\n",
    "    print(\"TAK\")\n",
    "else:\n",
    "    print(\"NIE\")"
   ]
  },
  {
   "cell_type": "code",
   "execution_count": null,
   "metadata": {},
   "outputs": [],
   "source": [
    "while                     "
   ]
  }
 ],
 "metadata": {
  "kernelspec": {
   "display_name": "Python 3",
   "language": "python",
   "name": "python3"
  },
  "language_info": {
   "codemirror_mode": {
    "name": "ipython",
    "version": 3
   },
   "file_extension": ".py",
   "mimetype": "text/x-python",
   "name": "python",
   "nbconvert_exporter": "python",
   "pygments_lexer": "ipython3",
   "version": "3.7.3"
  }
 },
 "nbformat": 4,
 "nbformat_minor": 2
}
