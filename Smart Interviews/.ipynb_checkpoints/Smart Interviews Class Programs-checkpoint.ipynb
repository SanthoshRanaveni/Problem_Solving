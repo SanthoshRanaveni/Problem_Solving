{
 "cells": [
  {
   "cell_type": "code",
   "execution_count": 8,
   "metadata": {},
   "outputs": [
    {
     "name": "stdout",
     "output_type": "stream",
     "text": [
      "3 2\n",
      "28\n",
      "28\n",
      "28\n",
      "19\n"
     ]
    }
   ],
   "source": [
    "# 1) Given no of consecutive 1's followed by 0's  Print the Number\n",
    "\n",
    "def create(x,y):\n",
    "    ans=0\n",
    "    for i in range(y,x+y):\n",
    "        ans+=(1<<i)\n",
    "    return ans\n",
    "def optSol1(x,y):\n",
    "    return ((1<<x)-1)<<y\n",
    "def optSol2(x,y):\n",
    "    return (1<<(x+y))-(1<<y)\n",
    "def optSol3(x,y):\n",
    "    return (1<<(x+y)-1)^((1<<y)-1)\n",
    "\n",
    "x,y=map(int,input().split())\n",
    "print(create(x,y))\n",
    "print(optSol1(x,y))\n",
    "print(optSol2(x,y))\n",
    "print(optSol3(x,y))"
   ]
  },
  {
   "cell_type": "code",
   "execution_count": 6,
   "metadata": {},
   "outputs": [
    {
     "name": "stdout",
     "output_type": "stream",
     "text": [
      "4\n"
     ]
    }
   ],
   "source": [
    "LAB SESSION\n",
    "\n",
    "1. DOUBTS CLEARANCE [THEORY+ASSIGNMENTS]\n",
    "\n",
    "2. https://www.hackerrank.com/contests/smart-interviews/challenges/si-repeated-numbers\n",
    "    [Implement Merge Sort | Verify | Logic for finding the answer]\n",
    "\n",
    "3. https://www.hackerrank.com/contests/smart-interviews/challenges/si-triple-trouble\n",
    "    [Implement Merge Sort | Verify | Logic for finding the answer]\n",
    "\n",
    "4. https://www.hackerrank.com/challenges/crossword-puzzle/problem\n",
    "\n",
    "5. Any 5 problems from https://www.spoj.com/problems/classical/\n",
    "\n",
    "6. https://www.hackerrank.com/challenges/non-divisible-subset\n",
    "\n",
    "7. Any 2 from https://www.codechef.com/MAY20\n",
    "\n",
    "8. Codeforces Round #639 (Div. 2) at 8PM today. Register NOW!\n",
    "\n",
    "9. Any live PayPal Hiring challenge from https://www.hackerearth.com/challenges/"
   ]
  },
  {
   "cell_type": "code",
   "execution_count": 35,
   "metadata": {},
   "outputs": [
    {
     "name": "stdout",
     "output_type": "stream",
     "text": [
      "6\n",
      "2 3 4 1 2 5\n",
      "1\n",
      "2\n",
      "2\n",
      "3\n",
      "4\n",
      "5\n"
     ]
    }
   ],
   "source": [
    "#Merge Sort\n",
    "def mergeSort(ar,lo,hi):\n",
    "    if(lo==hi):\n",
    "        return\n",
    "    m=(lo+hi)//2\n",
    "    mergeSort(ar,lo,m)\n",
    "    mergeSort(ar,m+1,hi)\n",
    "    merge(ar,lo,m,hi)\n",
    "\n",
    "def merge(ar,lo,m,hi):\n",
    "    tmp=[0]*((hi-lo)+1)\n",
    "    p1=lo\n",
    "    p2=m+1\n",
    "    idx=0\n",
    "    while(p1<=m and p2<=hi):\n",
    "        if(ar[p1]<ar[p2]):\n",
    "            tmp[idx]=ar[p1]\n",
    "            idx+=1\n",
    "            p1+=1\n",
    "        else:\n",
    "            tmp[idx]=ar[p2]\n",
    "            idx+=1\n",
    "            p2+=1\n",
    "    while(p1<=m):\n",
    "        tmp[idx]=ar[p1]\n",
    "        idx+=1\n",
    "        p1+=1\n",
    "    while(p2<=hi):\n",
    "        tmp[idx]=ar[p2]\n",
    "        idx+=1\n",
    "        p2+=1\n",
    "    for i in range(lo,hi+1):\n",
    "        ar[i]=tmp[i-lo]\n",
    "n=int(input())\n",
    "ar=list(map(int,input().split()))\n",
    "mergeSort(ar,0,n-1)\n",
    "for i in range(n):\n",
    "    print(ar[i])"
   ]
  },
  {
   "cell_type": "code",
   "execution_count": 46,
   "metadata": {},
   "outputs": [
    {
     "name": "stdout",
     "output_type": "stream",
     "text": [
      "1\n",
      "10\n",
      "2 3 5  1 6 7 8 1 2 9\n",
      "1 2 \n"
     ]
    }
   ],
   "source": [
    "def mergeSort(ar,lo,hi):\n",
    "    if(lo==hi):\n",
    "        return\n",
    "    m=(lo+hi)//2\n",
    "    mergeSort(ar,lo,m)\n",
    "    mergeSort(ar,m+1,hi)\n",
    "    merge(ar,lo,m,hi)\n",
    "\n",
    "def merge(ar,lo,m,hi):\n",
    "    tmp=[0]*((hi-lo)+1)\n",
    "    p1=lo\n",
    "    p2=m+1\n",
    "    idx=0\n",
    "    while(p1<=m and p2<=hi):\n",
    "        if(ar[p1]==ar[p2]):\n",
    "            repeated.append(ar[p1])\n",
    "            tmp[idx]=ar[p1]\n",
    "            idx+=1\n",
    "            p1+=1        \n",
    "        elif(ar[p1]<ar[p2]):\n",
    "            tmp[idx]=ar[p1]\n",
    "            idx+=1\n",
    "            p1+=1\n",
    "        elif(ar[p1]>ar[p2]):\n",
    "            tmp[idx]=ar[p2]\n",
    "            idx+=1\n",
    "            p2+=1\n",
    "    while(p1<=m):\n",
    "        tmp[idx]=ar[p1]\n",
    "        idx+=1\n",
    "        p1+=1\n",
    "    while(p2<=hi):\n",
    "        tmp[idx]=ar[p2]\n",
    "        idx+=1\n",
    "        p2+=1\n",
    "    for i in range(lo,hi+1):\n",
    "        ar[i]=tmp[i-lo]\n",
    "t=int(input())\n",
    "for i in range(t):\n",
    "    repeated=[]\n",
    "    n=int(input())\n",
    "    ar=list(map(int,input().split()))\n",
    "    mergeSort(ar,0,n-1)"
   ]
  },
  {
   "cell_type": "code",
   "execution_count": 48,
   "metadata": {},
   "outputs": [
    {
     "name": "stdout",
     "output_type": "stream",
     "text": [
      "2\n",
      "8\n",
      "1 3 2 3 4 6 5 5\n",
      "3 5 10\n",
      "1 5 2 8 1 4 7 4 3 6\n",
      "1 4 "
     ]
    }
   ],
   "source": [
    "#Repeated Numbers\n",
    "def mergeSort(ar,lo,hi):\n",
    "    if(lo==hi):\n",
    "        return\n",
    "    m=(lo+hi)//2\n",
    "    mergeSort(ar,lo,m)\n",
    "    mergeSort(ar,m+1,hi)\n",
    "    merge(ar,lo,m,hi)\n",
    "\n",
    "def merge(ar,lo,m,hi):\n",
    "    tmp=[0]*((hi-lo)+1)\n",
    "    p1=lo\n",
    "    p2=m+1\n",
    "    idx=0\n",
    "    while(p1<=m and p2<=hi):\n",
    "        if(ar[p1]<ar[p2]):\n",
    "            tmp[idx]=ar[p1]\n",
    "            idx+=1\n",
    "            p1+=1\n",
    "        else:\n",
    "            tmp[idx]=ar[p2]\n",
    "            idx+=1\n",
    "            p2+=1\n",
    "    while(p1<=m):\n",
    "        tmp[idx]=ar[p1]\n",
    "        idx+=1\n",
    "        p1+=1\n",
    "    while(p2<=hi):\n",
    "        tmp[idx]=ar[p2]\n",
    "        idx+=1\n",
    "        p2+=1\n",
    "    for i in range(lo,hi+1):\n",
    "        ar[i]=tmp[i-lo]\n",
    "def Repeated(ar,n):\n",
    "    for i in range(n-1):\n",
    "        if(ar[i]==ar[i+1]):\n",
    "            print(ar[i],end=\" \")\n",
    "t=int(input())\n",
    "for i in range(t):    \n",
    "    n=int(input())\n",
    "    ar=list(map(int,input().split()))\n",
    "    mergeSort(ar,0,n-1)\n",
    "    Repeated(ar,n)\n",
    "    print(\"\")"
   ]
  },
  {
   "cell_type": "code",
   "execution_count": 3,
   "metadata": {},
   "outputs": [
    {
     "name": "stdout",
     "output_type": "stream",
     "text": [
      "2\n",
      "10\n",
      "5 7 8 7 7 5 5 9 8 8\n",
      "9\n",
      "\n",
      "7\n",
      "10 20 20 30 20 10 10\n",
      "30\n",
      "\n"
     ]
    }
   ],
   "source": [
    "#Triple Trouble\n",
    "#Repeated Numbers\n",
    "def mergeSort(ar,lo,hi):\n",
    "    if(lo==hi):\n",
    "        return\n",
    "    m=(lo+hi)//2\n",
    "    mergeSort(ar,lo,m)\n",
    "    mergeSort(ar,m+1,hi)\n",
    "    merge(ar,lo,m,hi)\n",
    "\n",
    "def merge(ar,lo,m,hi):\n",
    "    tmp=[0]*((hi-lo)+1)\n",
    "    p1=lo\n",
    "    p2=m+1\n",
    "    idx=0\n",
    "    while(p1<=m and p2<=hi):\n",
    "        if(ar[p1]<ar[p2]):\n",
    "            tmp[idx]=ar[p1]\n",
    "            idx+=1\n",
    "            p1+=1\n",
    "        else:\n",
    "            tmp[idx]=ar[p2]\n",
    "            idx+=1\n",
    "            p2+=1\n",
    "    while(p1<=m):\n",
    "        tmp[idx]=ar[p1]\n",
    "        idx+=1\n",
    "        p1+=1\n",
    "    while(p2<=hi):\n",
    "        tmp[idx]=ar[p2]\n",
    "        idx+=1\n",
    "        p2+=1\n",
    "    for i in range(lo,hi+1):\n",
    "        ar[i]=tmp[i-lo]\n",
    "def TripleTrouble(ar,n):\n",
    "    flag=0\n",
    "    i=0\n",
    "    while(i<n-1):\n",
    "        if(ar[i]==ar[i+1]):\n",
    "            i+=3\n",
    "        else:\n",
    "            flag=1\n",
    "            print(ar[i])\n",
    "            break\n",
    "    if(flag==0):\n",
    "        print(ar[i])\n",
    "t=int(input())\n",
    "for i in range(t):    \n",
    "    n=int(input())\n",
    "    ar=list(map(int,input().split()))\n",
    "    mergeSort(ar,0,n-1)\n",
    "    TripleTrouble(ar,n)"
   ]
  },
  {
   "cell_type": "code",
   "execution_count": null,
   "metadata": {},
   "outputs": [
    {
     "name": "stdout",
     "output_type": "stream",
     "text": [
      "6\n",
      "1  1 2 2 3 3\n"
     ]
    }
   ],
   "source": [
    "#Finding the element that occurs once where all other elements occurs twice.\n",
    "def solveProb(ar,n):\n",
    "    lo=0\n",
    "    hi=n-1\n",
    "    while(lo<=hi):\n",
    "        mid=int((lo+hi)/2)\n",
    "        if(mid%2==1):\n",
    "            if(ar[mid]==ar[mid-1]):\n",
    "                lo=mid+1\n",
    "            elif(ar[mid]==ar[mid+1]):\n",
    "                hi=mid-1\n",
    "        else:\n",
    "            if(ar[mid]==ar[mid-1]):\n",
    "                hi=mid-2\n",
    "            elif(ar[mid]==ar[mid+1]):\n",
    "                low=mid+2\n",
    "        if(ar[mid]!=ar[mid+1] and ar[mid]!=ar[mid-1]):\n",
    "            return ar[mid]\n",
    "n=int(input())\n",
    "ar=list(map(int,input().split()))\n",
    "print(solveProb(ar,n))"
   ]
  },
  {
   "cell_type": "code",
   "execution_count": null,
   "metadata": {},
   "outputs": [
    {
     "name": "stdout",
     "output_type": "stream",
     "text": [
      "5\n"
     ]
    }
   ],
   "source": [
    "#Binary Search \n",
    "def BSR(ar,k,low,high):\n",
    "    mid=int((low+high)/2)\n",
    "    if(low>high):\n",
    "        return 0\n",
    "    if(k==ar[mid]):\n",
    "        return mid\n",
    "    if(k<ar[mid]):\n",
    "        return BSR(ar,k,low,mid-1)\n",
    "    return BSR(ar,k,mid+1,high)\n",
    "\n",
    "n=int(input())\n",
    "ar=list(map(int,input().split()))\n",
    "k=int(input())\n",
    "print(BSR(ar,k,0,n-1))"
   ]
  },
  {
   "cell_type": "code",
   "execution_count": 9,
   "metadata": {},
   "outputs": [
    {
     "name": "stdout",
     "output_type": "stream",
     "text": [
      "2\n",
      "1\n",
      "1\n",
      "Move  1  from  A  to  C\n",
      "3\n",
      "7\n",
      "Move  1  from  A  to  C\n",
      "Move  2  from  A  to  B\n",
      "Move  1  from  C  to  B\n",
      "Move  3  from  A  to  C\n",
      "Move  1  from  B  to  A\n",
      "Move  2  from  B  to  C\n",
      "Move  1  from  A  to  C\n"
     ]
    }
   ],
   "source": [
    "#Towers of Hanoi\n",
    "def TOH(n,src,dest,tmp):\n",
    "    if(n==0):\n",
    "        return\n",
    "    TOH(n-1,src,tmp,dest)\n",
    "    print(\"Move \",n,\" from \",src,\" to \",dest)\n",
    "    TOH(n-1,tmp,dest,src)\n",
    "t=int(input())\n",
    "for i in range(t):    \n",
    "    n=int(input())\n",
    "    print((1<<n)-1)\n",
    "    TOH(n,'A','C','B')"
   ]
  },
  {
   "cell_type": "code",
   "execution_count": 2,
   "metadata": {},
   "outputs": [
    {
     "name": "stdout",
     "output_type": "stream",
     "text": [
      "4\n",
      "8\n",
      "176 -272 -272 -45 269 -327 -945 176\n",
      "15\n",
      "2\n",
      "-274 161\n",
      "0\n",
      "7\n",
      "274 204 -161 481 -606 -767 -351\n",
      "16\n",
      "2\n",
      "154 -109\n",
      "1\n"
     ]
    }
   ],
   "source": [
    "#Bubble Sort\n",
    "def bubbleSort(arr): \n",
    "    count=0\n",
    "    n = len(arr) \n",
    "    for i in range(n-1): \n",
    "        for j in range(0, n-i-1): \n",
    "            if arr[j] > arr[j+1] : \n",
    "                arr[j], arr[j+1] = arr[j+1], arr[j]\n",
    "                count+=1\n",
    "    return count\n",
    "t=int(input())\n",
    "for i in range(t):\n",
    "    n=int(input())\n",
    "    ar=list(map(int,input().split()))\n",
    "    print(bubbleSort(ar))"
   ]
  },
  {
   "cell_type": "code",
   "execution_count": 6,
   "metadata": {},
   "outputs": [
    {
     "name": "stdout",
     "output_type": "stream",
     "text": [
      "3\n",
      "5 -15\n",
      "-30 15 20 10 -10\n",
      "True\n",
      "2 20\n",
      "10 10\n",
      "True\n",
      "4 7\n",
      "-4 0 10 -7\n",
      "False\n"
     ]
    }
   ],
   "source": [
    "#Sum of Pairs\n",
    "def sumOfPairs(ar,n,k):\n",
    "    ar.sort()\n",
    "    p1=0\n",
    "    p2=n-1\n",
    "    while(p1<p2):\n",
    "        if(ar[p1]+ar[p2]==k):\n",
    "            return 1\n",
    "        elif(ar[p1]+ar[p2]<k):\n",
    "            p1+=1\n",
    "        else:\n",
    "            p2-=1\n",
    "    return 0\n",
    "\n",
    "t=int(input())\n",
    "for i in range(t):\n",
    "    n,k=map(int,input().split())\n",
    "    ar=list(map(int,input().split()))\n",
    "    if(sumOfPairs(ar,n,k)):\n",
    "        print(\"True\")\n",
    "    else:\n",
    "        print(\"False\")"
   ]
  },
  {
   "cell_type": "code",
   "execution_count": 27,
   "metadata": {},
   "outputs": [
    {
     "name": "stdout",
     "output_type": "stream",
     "text": [
      "2\n",
      "5 2\n",
      "10 22 20 35 40\n",
      "true\n",
      "5 30\n",
      "-33 -63 1 2 3\n",
      "true\n"
     ]
    }
   ],
   "source": [
    "#Sum of Pairs\n",
    "def sumOfPairs(ar,n,k):\n",
    "    ar.sort()\n",
    "    p1=0\n",
    "    p2=0\n",
    "    while(p2<n):\n",
    "        if(ar[p2]-ar[p1]==k):\n",
    "            return 1\n",
    "        elif(ar[p2]-ar[p1]>k):\n",
    "            p1+=1\n",
    "        else:\n",
    "            p2+=1\n",
    "    return 0\n",
    "\n",
    "t=int(input())\n",
    "for i in range(t):\n",
    "    n,k=map(int,input().split())\n",
    "    ar=list(map(int,input().split()))\n",
    "    if(sumOfPairs(ar,n,k)):\n",
    "        print(\"true\")\n",
    "    else:\n",
    "        print(\"false\")"
   ]
  },
  {
   "cell_type": "code",
   "execution_count": 19,
   "metadata": {},
   "outputs": [
    {
     "name": "stdout",
     "output_type": "stream",
     "text": [
      "4\n",
      "8\n",
      "176 -272 -272 -45 269 -327 -945 176\n",
      "0 1 2 4 0 0 6 2\n",
      "-274 161\n",
      "1 7\n",
      "274 204 -161 481 -606 -767 -351\n",
      "0 0 3 0 0 2 2\n",
      "154 -109\n",
      "0 "
     ]
    }
   ],
   "source": [
    "#Insertion Sort\n",
    "def insertion(arr,n):\n",
    "    a=[]\n",
    "    for i in range(1,n): \n",
    "        key = arr[i] \n",
    "        # Move elements of arr[0..i-1], that are \n",
    "        # greater than key, to one position ahead \n",
    "        # of their current position \n",
    "        j = i-1\n",
    "        while j >= 0 and key < arr[j] : \n",
    "                arr[j + 1] = arr[j]\n",
    "                j -= 1\n",
    "        arr[j + 1] = key \n",
    "        indx=j+1\n",
    "        a.append(indx)\n",
    "    return a\n",
    "t=int(input())\n",
    "for i in range(t):\n",
    "    n=int(input())\n",
    "    ar=list(map(int,input().split()))\n",
    "    a=insertion(ar,n)\n",
    "    for i in range(len(a)):\n",
    "        print(a[i],end=\" \")\n",
    "    print(\"\")"
   ]
  },
  {
   "cell_type": "code",
   "execution_count": 23,
   "metadata": {},
   "outputs": [
    {
     "name": "stdout",
     "output_type": "stream",
     "text": [
      "1\n",
      "8\n",
      "176 -272 -272 -45 269 -327 -945 176\n",
      "[4, 3, 5, 0, 0, 2, 1, 0]\n"
     ]
    }
   ],
   "source": [
    "#Selection Sort\n",
    "def selection(ar,n):\n",
    "    a=[]\n",
    "    for i in range(n): \n",
    "        min_idx = i \n",
    "        for j in range(i+1,n): \n",
    "            if ar[min_idx] < ar[j]: \n",
    "                min_idx = j \n",
    "        ar[i], ar[min_idx] = ar[min_idx], ar[i] \n",
    "        min_idx=min_idx-i\n",
    "        a.append(min_idx)\n",
    "    return a\n",
    "\n",
    "t=int(input())\n",
    "for i in range(t):\n",
    "    n=int(input())\n",
    "    ar=list(map(int,input().split()))\n",
    "    a=selection(ar,n)\n",
    "    print(a)"
   ]
  },
  {
   "cell_type": "code",
   "execution_count": 22,
   "metadata": {},
   "outputs": [
    {
     "name": "stdout",
     "output_type": "stream",
     "text": [
      "7\n",
      "10 3  15 -7 18 -3 25\n",
      "7\n",
      "115\n",
      "25\n",
      "17\n",
      "15\n",
      "-4\n",
      "-7\n",
      "18\n",
      "15\n",
      "9\n",
      "3\n",
      "-15\n",
      "-9223372036854775808\n",
      "4\n",
      "3\n"
     ]
    }
   ],
   "source": [
    "#Finding the greater number that is less than K from the array of elements\n",
    "def floor(ar,n,x):\n",
    "    ans=-sys.maxsize-1\n",
    "    for i in range(n):\n",
    "        if(ar[i]>ans and ar[i]<=x):\n",
    "            ans=ar[i]\n",
    "    return ans\n",
    "\n",
    "n=int(input())\n",
    "ar=list(map(int,input().split()))\n",
    "q=int(input())\n",
    "for i in range(q):\n",
    "    x=int(input())\n",
    "    print(floor(ar,n,x))"
   ]
  },
  {
   "cell_type": "code",
   "execution_count": 4,
   "metadata": {},
   "outputs": [
    {
     "name": "stdout",
     "output_type": "stream",
     "text": [
      "2 23 3 4 4\n"
     ]
    },
    {
     "ename": "ValueError",
     "evalue": "invalid literal for int() with base 10: '2 23 3 4 4'",
     "output_type": "error",
     "traceback": [
      "\u001b[1;31m---------------------------------------------------------------------------\u001b[0m",
      "\u001b[1;31mValueError\u001b[0m                                Traceback (most recent call last)",
      "\u001b[1;32m<ipython-input-4-ef48b8cef48a>\u001b[0m in \u001b[0;36m<module>\u001b[1;34m\u001b[0m\n\u001b[0;32m     14\u001b[0m             \u001b[0mhigh\u001b[0m\u001b[1;33m=\u001b[0m\u001b[0mmid\u001b[0m\u001b[1;33m-\u001b[0m\u001b[1;36m1\u001b[0m\u001b[1;33m\u001b[0m\u001b[1;33m\u001b[0m\u001b[0m\n\u001b[0;32m     15\u001b[0m     \u001b[1;32mreturn\u001b[0m \u001b[0mans\u001b[0m\u001b[1;33m\u001b[0m\u001b[1;33m\u001b[0m\u001b[0m\n\u001b[1;32m---> 16\u001b[1;33m \u001b[0mn\u001b[0m\u001b[1;33m=\u001b[0m\u001b[0mint\u001b[0m\u001b[1;33m(\u001b[0m\u001b[0minput\u001b[0m\u001b[1;33m(\u001b[0m\u001b[1;33m)\u001b[0m\u001b[1;33m)\u001b[0m\u001b[1;33m\u001b[0m\u001b[1;33m\u001b[0m\u001b[0m\n\u001b[0m\u001b[0;32m     17\u001b[0m \u001b[0mar\u001b[0m\u001b[1;33m=\u001b[0m\u001b[0mlist\u001b[0m\u001b[1;33m(\u001b[0m\u001b[0mmap\u001b[0m\u001b[1;33m(\u001b[0m\u001b[0mint\u001b[0m\u001b[1;33m,\u001b[0m\u001b[0minput\u001b[0m\u001b[1;33m(\u001b[0m\u001b[1;33m)\u001b[0m\u001b[1;33m.\u001b[0m\u001b[0msplit\u001b[0m\u001b[1;33m(\u001b[0m\u001b[1;33m)\u001b[0m\u001b[1;33m)\u001b[0m\u001b[1;33m)\u001b[0m\u001b[1;33m\u001b[0m\u001b[1;33m\u001b[0m\u001b[0m\n\u001b[0;32m     18\u001b[0m \u001b[0mtest\u001b[0m\u001b[1;33m=\u001b[0m\u001b[0mint\u001b[0m\u001b[1;33m(\u001b[0m\u001b[0minput\u001b[0m\u001b[1;33m(\u001b[0m\u001b[1;33m)\u001b[0m\u001b[1;33m)\u001b[0m\u001b[1;33m\u001b[0m\u001b[1;33m\u001b[0m\u001b[0m\n",
      "\u001b[1;31mValueError\u001b[0m: invalid literal for int() with base 10: '2 23 3 4 4'"
     ]
    }
   ],
   "source": [
    "# 2nd method for the above problem\n",
    "import sys\n",
    "\n",
    "def solve(ar,n,x):\n",
    "    low=0\n",
    "    high=n-1\n",
    "    ans= -2147483648\n",
    "    while(low<=high):\n",
    "        mid=(low+high)//2\n",
    "        if(ar[mid]<=x):\n",
    "            ans=ar[mid]\n",
    "            low=mid+1\n",
    "        else:\n",
    "            high=mid-1\n",
    "    return ans\n",
    "n=int(input())\n",
    "ar=list(map(int,input().split()))\n",
    "x=int(input())\n",
    "ar.sort()\n",
    "print(solve(ar,n,x))"
   ]
  },
  {
   "cell_type": "code",
   "execution_count": 14,
   "metadata": {},
   "outputs": [
    {
     "name": "stdout",
     "output_type": "stream",
     "text": [
      "5\n",
      "2 2 2 2 2\n",
      "3\n",
      "1\n",
      "2\n",
      "3\n",
      "-2147483648\n",
      "2\n",
      "2\n"
     ]
    }
   ],
   "source": [
    "#3rd method using Binary Search\n",
    "def BSR(ar,k,low,high):\n",
    "    mid=int((low+high)/2)\n",
    "    if(low>high):\n",
    "        return 0\n",
    "    if(k==ar[mid]):\n",
    "        return mid\n",
    "    if(k<ar[mid]):\n",
    "        return BSR(ar,k,low,mid-1)\n",
    "    return BSR(ar,k,mid+1,high)\n",
    "\n",
    "    \n",
    "n=int(input())\n",
    "ar=list(map(int,input().split()))\n",
    "qr=[]\n",
    "q=int(input())\n",
    "for i in range(q):\n",
    "    qr.append(int(input()))\n",
    "ar.sort()\n",
    "qrn=sorted(qr)\n",
    "p1=0\n",
    "p2=0\n",
    "ans=[]\n",
    "intMin=-2147483648\n",
    "while(p2<q):\n",
    "    if(ar[p1]<qrn[p2]):\n",
    "        p1+=1\n",
    "    elif(ar[p1]==qrn[p2]):\n",
    "        ans.append(ar[p1])\n",
    "        p1+=1\n",
    "        p2+=1\n",
    "    elif(ar[p1]>qrn[p2] and p1==0):\n",
    "        ans.append(intMin)\n",
    "        p2+=1\n",
    "    elif(ar[p1]>qrn[p2] and ar[p1-1]<qrn[p2]):\n",
    "        ans.append(ar[p1-1])\n",
    "        p2+=1\n",
    "    if(p1==q):\n",
    "        while(p2<q):\n",
    "            ans.append(ar[p1-1])\n",
    "            p2+=1\n",
    "        break\n",
    "for i in range(q):\n",
    "    indx=BSR(qrn,qr[i],0,q-1)\n",
    "    print(ans[indx])"
   ]
  },
  {
   "cell_type": "code",
   "execution_count": 19,
   "metadata": {},
   "outputs": [
    {
     "name": "stdout",
     "output_type": "stream",
     "text": [
      "15\n",
      "3 10 5 8 10 5 3 10 10 -4 5 15 10 20 15\n",
      "7\n",
      "8\n",
      "1\n",
      "3\n",
      "2\n",
      "10\n",
      "5\n",
      "2\n",
      "0\n",
      "5\n",
      "3\n",
      "15\n",
      "2\n",
      "10\n",
      "5\n"
     ]
    }
   ],
   "source": [
    "#Finding Frequency \n",
    "#Bruteforce Method\n",
    "def count(ar,n,k):\n",
    "    cnt=0\n",
    "    for i in range(n):\n",
    "        if(ar[i]==k):\n",
    "            cnt+=1\n",
    "    return cnt\n",
    "\n",
    "n=int(input())\n",
    "ar=list(map(int,input().split()))\n",
    "t=int(input())\n",
    "for i in range(t):\n",
    "    k=int(input())\n",
    "    print(count(ar,n,k))"
   ]
  },
  {
   "cell_type": "code",
   "execution_count": 21,
   "metadata": {},
   "outputs": [
    {
     "name": "stdout",
     "output_type": "stream",
     "text": [
      "15\n",
      "3 10 5 8 10 5 3 10 10 -4 5 15 10 20 15\n",
      "7\n",
      "8\n",
      "1\n",
      "3\n",
      "2\n",
      "10\n",
      "5\n",
      "2\n",
      "0\n",
      "5\n",
      "3\n",
      "15\n",
      "2\n",
      "10\n",
      "5\n"
     ]
    }
   ],
   "source": [
    "#Finding Frequency\n",
    "#Using Count Array\n",
    "\n",
    "n=int(input())\n",
    "ar=list(map(int,input().split()))\n",
    "cnt=[0]*50\n",
    "t=int(input())\n",
    "for i in range(n):\n",
    "    cnt[ar[i]]+=1\n",
    "for i in range(t):\n",
    "    k=int(input())\n",
    "    print(cnt[k])"
   ]
  },
  {
   "cell_type": "code",
   "execution_count": 25,
   "metadata": {},
   "outputs": [
    {
     "name": "stdout",
     "output_type": "stream",
     "text": [
      "15\n",
      "3 10 5 8 10 5 3 10 10 -4 5 15 10 20 15\n",
      "4\n",
      "8\n",
      "1\n",
      "5\n",
      "3\n",
      "2\n",
      "0\n",
      "3\n",
      "2\n"
     ]
    }
   ],
   "source": [
    "#Finding Frequency \n",
    "#Third Method using Sorting\n",
    "def BSR(ar,k,low,high):\n",
    "    mid=int((low+high)/2)\n",
    "    if(low>high):\n",
    "        return 0\n",
    "    if(k==ar[mid]):\n",
    "        return mid\n",
    "    if(k<ar[mid]):\n",
    "        return BSR(ar,k,low,mid-1)\n",
    "    return BSR(ar,k,mid+1,high)\n",
    "\n",
    "def findFreq(ar,n,k):\n",
    "    indx=BSR(ar,k,0,n-1)\n",
    "    idx=indx\n",
    "    cnt=0\n",
    "    indx+=1\n",
    "    while(ar[idx]==k):\n",
    "        cnt+=1\n",
    "        idx-=1\n",
    "    while(ar[indx]==k):\n",
    "        cnt+=1\n",
    "        indx+=1\n",
    "    return cnt\n",
    "\n",
    "n=int(input())\n",
    "ar=list(map(int,input().split()))\n",
    "ar.sort()\n",
    "t=int(input())\n",
    "for i in range(t):\n",
    "    k=int(input())\n",
    "    print(findFreq(ar,n,k))"
   ]
  },
  {
   "cell_type": "code",
   "execution_count": 5,
   "metadata": {},
   "outputs": [
    {
     "name": "stdout",
     "output_type": "stream",
     "text": [
      "15\n",
      "3 10 5 8 10 5 3 10 10 -4 5 15 10 20 15\n",
      "7\n",
      "8\n",
      "1\n",
      "3\n",
      "2\n",
      "10\n",
      "5\n",
      "2\n",
      "0\n",
      "5\n",
      "3\n",
      "15\n",
      "2\n",
      "10\n",
      "5\n"
     ]
    }
   ],
   "source": [
    "###### Finding Frequency\n",
    "#Forth Method\n",
    "def BS1(ar,n,k):\n",
    "    p1=0\n",
    "    low=0\n",
    "    high=n-1\n",
    "    while(low<=high):\n",
    "        mid=int((low+high)/2)\n",
    "        if(k<ar[mid]):\n",
    "            high=mid-1\n",
    "        elif(k>ar[mid]):\n",
    "            low=mid+1\n",
    "        else:\n",
    "            p1=mid\n",
    "            high=mid-1\n",
    "    return p1\n",
    "def BS2(ar,n,k):\n",
    "    p2=1\n",
    "    low=0\n",
    "    high=n-1\n",
    "    while(low<=high):\n",
    "        mid=int((low+high)/2)\n",
    "        if(k<ar[mid]):\n",
    "            high=mid-1\n",
    "        elif(k>ar[mid]):\n",
    "            low=mid+1\n",
    "        else:\n",
    "            p2=mid\n",
    "            low=mid+1\n",
    "    return p2\n",
    "\n",
    "n=int(input())\n",
    "ar=list(map(int,input().split()))\n",
    "ar.sort()\n",
    "t=int(input())\n",
    "for i in range(t):\n",
    "    k=int(input())\n",
    "    p1=BS1(ar,n,k)\n",
    "    p2=BS2(ar,n,k)\n",
    "    if(p1==0 and p2==1):\n",
    "        print(0)\n",
    "    else:\n",
    "        print(p2-p1+1)"
   ]
  },
  {
   "cell_type": "code",
   "execution_count": 13,
   "metadata": {},
   "outputs": [
    {
     "name": "stdout",
     "output_type": "stream",
     "text": [
      "16\n",
      "3 10 5 8 10 5 3 10 10 -4 5 15 10 20 15 21\n",
      "[-4, 3, 5, 8, 10, 15, 21]\n",
      "[1, 2, 3, 1, 5, 2, 1]\n"
     ]
    }
   ],
   "source": [
    "#Finding Frequency \n",
    "#Fifth method\n",
    "n=int(input())\n",
    "ar=list(map(int,input().split()))\n",
    "ar.sort()\n",
    "a=[]\n",
    "b=[]\n",
    "for i in range(n):\n",
    "    k\n",
    "\n",
    "print(a)\n",
    "print(b)"
   ]
  },
  {
   "cell_type": "code",
   "execution_count": null,
   "metadata": {},
   "outputs": [],
   "source": [
    "#Finding Frequency SI\n",
    "###### Finding Frequency\n",
    "#Forth Method\n",
    "def BS1(ar,n,k):\n",
    "    p1=0\n",
    "    low=0\n",
    "    high=n-1\n",
    "    while(low<=high):\n",
    "        mid=int((low+high)/2)\n",
    "        if(k<ar[mid]):\n",
    "            high=mid-1\n",
    "        elif(k>ar[mid]):\n",
    "            low=mid+1\n",
    "        else:\n",
    "            p1=mid\n",
    "            high=mid-1\n",
    "    return p1\n",
    "def BS2(ar,n,k):\n",
    "    p2=1\n",
    "    low=0\n",
    "    high=n-1\n",
    "    while(low<=high):\n",
    "        mid=int((low+high)/2)\n",
    "        if(k<ar[mid]):\n",
    "            high=mid-1\n",
    "        elif(k>ar[mid]):\n",
    "            low=mid+1\n",
    "        else:\n",
    "            p2=mid\n",
    "            low=mid+1\n",
    "    return p2\n",
    "\n",
    "n=int(input())\n",
    "ar=list(map(int,input().split()))\n",
    "ar.sort()\n",
    "t=int(input())\n",
    "for i in range(t):\n",
    "    k=int(input())\n",
    "    p1=BS1(ar,n,k)\n",
    "    p2=BS2(ar,n,k)\n",
    "    if(p1==0 and p2==1):\n",
    "        print(0)\n",
    "    else:\n",
    "        print(p2-p1+1)"
   ]
  },
  {
   "cell_type": "code",
   "execution_count": 6,
   "metadata": {},
   "outputs": [
    {
     "name": "stdout",
     "output_type": "stream",
     "text": [
      "4\n",
      "Hi\n",
      "1 1 1\n",
      "Hello World\n",
      "2 3 7\n",
      "    Exception\n",
      "1 4 5\n",
      "Hi there\n",
      "2 3 4\n"
     ]
    }
   ],
   "source": [
    "#Words Vowels and Consonants\n",
    "t=int(input())\n",
    "vowels=\"aeiouAEIOU\"\n",
    "for i in range(t):\n",
    "    strg=input()\n",
    "    words=1\n",
    "    vowel=0\n",
    "    consonants=0\n",
    "    k=0\n",
    "    while(k<len(strg)):\n",
    "        if(strg[k]!=\" \"):\n",
    "            if(strg[k] in vowels):\n",
    "                vowel+=1\n",
    "                k+=1\n",
    "            else:\n",
    "                consonants+=1\n",
    "                k+=1\n",
    "        else:\n",
    "            while(strg[k]==\" \"):\n",
    "                if(k<len(strg)-1):\n",
    "                    k+=1\n",
    "            words+=1\n",
    "    if(strg[0]==\" \"):\n",
    "        words-=1\n",
    "    print(words,vowel,consonants)"
   ]
  },
  {
   "cell_type": "code",
   "execution_count": null,
   "metadata": {},
   "outputs": [],
   "source": [
    "while(i<n):\n",
    "        work=0\n",
    "        while(work<=mid and i<n):\n",
    "            work+=ar[i]\n",
    "            i+=1\n",
    "        if(i<n):\n",
    "            i-=1\n",
    "        print(work)\n",
    "        workers+=1\n",
    "    if(k>=workers):\n",
    "        return 1\n",
    "    else:\n",
    "        return 0"
   ]
  },
  {
   "cell_type": "code",
   "execution_count": 6,
   "metadata": {},
   "outputs": [
    {
     "name": "stdout",
     "output_type": "stream",
     "text": [
      "1\n",
      "4 2\n",
      "15 30 10 50\n",
      "55\n"
     ]
    }
   ],
   "source": [
    "#Cabinets Partitioning\n",
    "def isValid(ar,n,k,mid):\n",
    "    partitions=1\n",
    "    tot=0\n",
    "    i=0\n",
    "    while(i<n):\n",
    "        tot+=ar[i]\n",
    "        if(tot>mid):\n",
    "            partitions+=1\n",
    "            tot=0\n",
    "            i-=1\n",
    "        i+=1\n",
    "    if(partitions>k):\n",
    "        return 0\n",
    "    else:\n",
    "        return 1\n",
    "    \n",
    "def findValue(ar,low,high,n,k):\n",
    "    ans=0\n",
    "    while(low<=high):\n",
    "        mid=int((low+high)/2)\n",
    "        if(isValid(ar,n,k,mid)):\n",
    "            ans=mid\n",
    "            high=mid-1\n",
    "        else:\n",
    "            low=mid+1\n",
    "    return ans\n",
    "\n",
    "t=int(input())\n",
    "for i in range(t):\n",
    "    n,k=map(int,input().split())\n",
    "    ar=list(map(int,input().split()))\n",
    "    high=0\n",
    "    low=ar[0]\n",
    "    for i in range(n):\n",
    "        high+=ar[i]\n",
    "        if(ar[i]>low):\n",
    "            low=ar[i]\n",
    "    if(k>=n):\n",
    "        print(max(ar))\n",
    "    else:\n",
    "        print(findValue(ar,low,high,n,k))"
   ]
  },
  {
   "cell_type": "code",
   "execution_count": 7,
   "metadata": {},
   "outputs": [
    {
     "name": "stdout",
     "output_type": "stream",
     "text": [
      "9\n",
      "-6 10 -1 20 -1 15 5 -1 15\n",
      "5\n",
      "-1\n",
      "3\n",
      "10\n",
      "1\n",
      "8\n",
      "0\n",
      "5\n",
      "1\n",
      "6\n",
      "0\n"
     ]
    }
   ],
   "source": [
    "#Finding Frequency using Hashmap\n",
    "\n",
    "n=int(input())\n",
    "ar=list(map(int,input().split()))\n",
    "freq=dict()\n",
    "for i in range(n):\n",
    "    if(ar[i] not in freq):\n",
    "        freq[ar[i]]=1\n",
    "    else:\n",
    "        freq[ar[i]]+=1\n",
    "t=int(input())\n",
    "for i in range(t):\n",
    "    k=int(input())\n",
    "    try:\n",
    "        print(freq[k])\n",
    "    except KeyError:\n",
    "        print(0)"
   ]
  },
  {
   "cell_type": "code",
   "execution_count": 2,
   "metadata": {},
   "outputs": [
    {
     "name": "stdout",
     "output_type": "stream",
     "text": [
      "1\n",
      "5\n",
      "5 5 2 3 2\n",
      "2 5 \n"
     ]
    }
   ],
   "source": [
    "#Repeated Numbers using HashSet\n",
    "t=int(input())\n",
    "for i in range(t):\n",
    "    n=int(input())\n",
    "    ar=list(map(int,input().split()))\n",
    "    s=set()\n",
    "    d=set()\n",
    "    for number in ar:\n",
    "        if(number not in s):\n",
    "            s.add(number)\n",
    "        else:\n",
    "            d.add(number)\n",
    "    sorted(d)\n",
    "    for number in d:\n",
    "        print(number,end=\" \")\n",
    "    print(\"\")"
   ]
  },
  {
   "cell_type": "code",
   "execution_count": 4,
   "metadata": {},
   "outputs": [
    {
     "name": "stdout",
     "output_type": "stream",
     "text": [
      "2\n",
      "10\n",
      "5 7 8 7 7 5 5 9 8 8\n",
      "9\n",
      "7\n",
      "10 20 20 30 20 10 10 \n",
      "30\n"
     ]
    }
   ],
   "source": [
    "#Triple Trouble using Hashmap\n",
    "t=int(input())\n",
    "for i in range(t):\n",
    "    n=int(input())\n",
    "    ar=list(map(int,input().split()))\n",
    "    count=dict()\n",
    "    for number in ar:\n",
    "        if(number not in count):\n",
    "            count[number]=1\n",
    "        else:\n",
    "            count[number]+=1\n",
    "    for key,value in count.items():\n",
    "        if value==1:\n",
    "            print(key)"
   ]
  },
  {
   "cell_type": "code",
   "execution_count": 17,
   "metadata": {},
   "outputs": [
    {
     "name": "stdout",
     "output_type": "stream",
     "text": [
      "2\n",
      "6\n",
      "4 -2 10 12 -8 4\n",
      "-8 -2 10 12 4 4 \n",
      "8\n",
      "176 -272 -272 -45 269 -327 -945 176\n",
      "-945 -327 -45 269 -272 -272 176 176 \n"
     ]
    }
   ],
   "source": [
    "#Frequency Sort\n",
    "from collections import OrderedDict\n",
    "\n",
    "t=int(input())\n",
    "for i in range(t):\n",
    "    n=int(input())\n",
    "    freq=dict()\n",
    "    ar=list(map(int,input().split()))\n",
    "    for number in ar:\n",
    "        if number not in freq:\n",
    "            freq[number]=1\n",
    "        else:\n",
    "            freq[number]+=1\n",
    "    dd = OrderedDict(sorted(freq.items(), key=lambda x: (x[1],x[0])))\n",
    "    for key,value in dd.items():\n",
    "        for i in range(value):\n",
    "            print(key,end=\" \")\n",
    "    print(\"\")"
   ]
  },
  {
   "cell_type": "code",
   "execution_count": 6,
   "metadata": {},
   "outputs": [
    {
     "name": "stdout",
     "output_type": "stream",
     "text": [
      "1\n",
      "algorithms\n",
      ".\n"
     ]
    }
   ],
   "source": [
    "#Find First Repeating Character\n",
    "from collections import OrderedDict\n",
    "t=int(input())\n",
    "for i in range(t):\n",
    "    flag=0\n",
    "    text=input()\n",
    "    newDict=dict()\n",
    "    for i in range(len(text)):\n",
    "        if(text[i] not in newDict):\n",
    "            newDict[text[i]]=1\n",
    "        else:\n",
    "            newDict[text[i]]+=1\n",
    "    for key,value in newDict.items():\n",
    "        if(value>1):\n",
    "            print(key)\n",
    "            flag=1\n",
    "            break\n",
    "    if(flag==0):\n",
    "        print(\".\")"
   ]
  },
  {
   "cell_type": "code",
   "execution_count": 9,
   "metadata": {},
   "outputs": [
    {
     "name": "stdout",
     "output_type": "stream",
     "text": [
      "10\n",
      "[[1, 3], [3, 1]]\n"
     ]
    }
   ],
   "source": [
    "def squareSum(A):\n",
    "        ans = []\n",
    "        a = 0\n",
    "        while a * a < A:\n",
    "            b = 0\n",
    "            while b * b < A:\n",
    "                if a * a + b * b == A:\n",
    "                    newEntry = [a, b]\n",
    "                    ans.append(newEntry)\n",
    "                b += 1\n",
    "            a += 1\n",
    "        return ans\n",
    "n=int(input())\n",
    "print(squareSum(n))"
   ]
  },
  {
   "cell_type": "code",
   "execution_count": 2,
   "metadata": {},
   "outputs": [
    {
     "name": "stdout",
     "output_type": "stream",
     "text": [
      "3\n",
      "5 0\n",
      "-3 -10 8 3 7\n",
      "true\n",
      "5 1\n",
      "-3 -10 8 3 6\n",
      "true\n",
      "3 0\n",
      "0 0 0\n",
      "true\n"
     ]
    }
   ],
   "source": [
    "#Sum of three numbers equal to K\n",
    "def sumOfPairs(ar,n,k):\n",
    "    ar.sort()\n",
    "    for i in range(n):\n",
    "        a=ar[i]\n",
    "        summ=k\n",
    "        summ=summ-a\n",
    "        p1=0\n",
    "        p2=n-1\n",
    "        while(p1<p2):\n",
    "            if(ar[p1]+ar[p2]==summ and p1!=i and  p2!=i):\n",
    "                return 1\n",
    "            elif(ar[p1]+ar[p2]<summ):\n",
    "                p1+=1\n",
    "            else:\n",
    "                p2-=1\n",
    "    return 0\n",
    "\n",
    "t=int(input())\n",
    "for testcase in range(t):\n",
    "    n,k=map(int,input().split())\n",
    "    ar=list(map(int,input().split()))\n",
    "    if(sumOfPairs(ar,n,k)):\n",
    "        print(\"true\")\n",
    "    else:\n",
    "        print(\"false\")"
   ]
  },
  {
   "cell_type": "code",
   "execution_count": 10,
   "metadata": {},
   "outputs": [
    {
     "name": "stdout",
     "output_type": "stream",
     "text": [
      "1 \n",
      "12 4\n",
      "3 8 5 9  4 5 2 -3 2 5 10 2\n",
      "4 4 3 4 4 3 3 4 3 \n"
     ]
    }
   ],
   "source": [
    "#Distinct elements in a window\n",
    "t=int(input())\n",
    "for testcase in range(t):\n",
    "    n,k=map(int,input().split())\n",
    "    ar=list(map(int,input().split()))\n",
    "    d=[]\n",
    "    s=dict()\n",
    "    for i in range(k):\n",
    "        if(ar[i] not in s):\n",
    "            s[ar[i]]=1\n",
    "        else:\n",
    "            s[ar[i]]+=1\n",
    "    print(len(s),end=\" \")\n",
    "    for i in range(1,n-k+1):\n",
    "        if(s[ar[i-1]]==1):\n",
    "            s.pop(ar[i-1])\n",
    "        else:\n",
    "            s[ar[i-1]]-=1\n",
    "        if(ar[i+k-1] not in s):\n",
    "            s[ar[i+k-1]]=1\n",
    "        else:\n",
    "            s[ar[i+k-1]]+=1\n",
    "        print(len(s),end=\" \")\n",
    "    print(\"\")"
   ]
  },
  {
   "cell_type": "code",
   "execution_count": 12,
   "metadata": {},
   "outputs": [
    {
     "name": "stdout",
     "output_type": "stream",
     "text": [
      "dsaf2 23\n"
     ]
    },
    {
     "ename": "ValueError",
     "evalue": "invalid literal for int() with base 10: 'dsaf2 23'",
     "output_type": "error",
     "traceback": [
      "\u001b[1;31m---------------------------------------------------------------------------\u001b[0m",
      "\u001b[1;31mValueError\u001b[0m                                Traceback (most recent call last)",
      "\u001b[1;32m<ipython-input-12-5314225a9338>\u001b[0m in \u001b[0;36m<module>\u001b[1;34m\u001b[0m\n\u001b[0;32m      1\u001b[0m \u001b[1;31m#Print Hollow Diamond Pattern\u001b[0m\u001b[1;33m\u001b[0m\u001b[1;33m\u001b[0m\u001b[1;33m\u001b[0m\u001b[0m\n\u001b[1;32m----> 2\u001b[1;33m \u001b[0mt\u001b[0m\u001b[1;33m=\u001b[0m\u001b[0mint\u001b[0m\u001b[1;33m(\u001b[0m\u001b[0minput\u001b[0m\u001b[1;33m(\u001b[0m\u001b[1;33m)\u001b[0m\u001b[1;33m)\u001b[0m\u001b[1;33m\u001b[0m\u001b[1;33m\u001b[0m\u001b[0m\n\u001b[0m\u001b[0;32m      3\u001b[0m \u001b[1;32mfor\u001b[0m \u001b[0mtestcase\u001b[0m \u001b[1;32min\u001b[0m \u001b[0mrange\u001b[0m\u001b[1;33m(\u001b[0m\u001b[0mt\u001b[0m\u001b[1;33m)\u001b[0m\u001b[1;33m:\u001b[0m\u001b[1;33m\u001b[0m\u001b[1;33m\u001b[0m\u001b[0m\n\u001b[0;32m      4\u001b[0m     \u001b[0mprint\u001b[0m\u001b[1;33m(\u001b[0m\u001b[1;34m'case #'\u001b[0m\u001b[1;33m,\u001b[0m\u001b[0mtestcase\u001b[0m\u001b[1;33m+\u001b[0m\u001b[1;36m1\u001b[0m\u001b[1;33m,\u001b[0m\u001b[1;34m':'\u001b[0m\u001b[1;33m)\u001b[0m\u001b[1;33m\u001b[0m\u001b[1;33m\u001b[0m\u001b[0m\n\u001b[0;32m      5\u001b[0m     \u001b[0mn\u001b[0m\u001b[1;33m=\u001b[0m\u001b[0mint\u001b[0m\u001b[1;33m(\u001b[0m\u001b[0minput\u001b[0m\u001b[1;33m(\u001b[0m\u001b[1;33m)\u001b[0m\u001b[1;33m)\u001b[0m\u001b[1;33m-\u001b[0m\u001b[1;36m1\u001b[0m\u001b[1;33m\u001b[0m\u001b[1;33m\u001b[0m\u001b[0m\n",
      "\u001b[1;31mValueError\u001b[0m: invalid literal for int() with base 10: 'dsaf2 23'"
     ]
    }
   ],
   "source": [
    "#Print Hollow Diamond Pattern\n",
    "t=int(input())\n",
    "for testcase in range(t):\n",
    "    print('case #',testcase+1,':')\n",
    "    n=int(input())-1\n",
    "    j=n-1\n",
    "    print(' '*(n)+'*')\n",
    "    for i in range(1, 2*n):\n",
    "        if i>n:\n",
    "            print(' '*(i-n)+'*'+' '*(2*j-1)+'*')\n",
    "            j-=1\n",
    "        else:\n",
    "            print(' '*(n-i)+'*'+' '*(2*i-1)+'*')\n",
    "    if n>1:\n",
    "        print(' '*n+'*')"
   ]
  },
  {
   "cell_type": "markdown",
   "metadata": {},
   "source": [
    "# "
   ]
  },
  {
   "cell_type": "code",
   "execution_count": 7,
   "metadata": {},
   "outputs": [
    {
     "name": "stdout",
     "output_type": "stream",
     "text": [
      "4\n",
      "case #1:\n",
      "15\n",
      "       *\n",
      "      * *\n",
      "     *   *\n",
      "    *     *\n",
      "   *       *\n",
      "  *         *\n",
      " *           *\n",
      "*             *\n",
      " *           *\n",
      "  *         *\n",
      "   *       *\n",
      "    *     *\n",
      "     *   *\n",
      "      * *\n",
      "       *\n",
      "case #2:\n",
      "7\n",
      "   *\n",
      "  * *\n",
      " *   *\n",
      "*     *\n",
      " *   *\n",
      "  * *\n",
      "   *\n",
      "case #3:\n",
      "5\n",
      "  *\n",
      " * *\n",
      "*   *\n",
      " * *\n",
      "  *\n",
      "case #4:\n",
      "3\n",
      " *\n",
      "* *\n",
      " *\n"
     ]
    }
   ],
   "source": [
    "#Print Hollow Diamond Pattern\n",
    "t=int(input())\n",
    "for testcase in range(t):\n",
    "    print('case #'+str(testcase+1)+':')\n",
    "    n=int(input())-1\n",
    "    j=n-1\n",
    "    print(' '*(n//2)+'*')\n",
    "    for i in range(1,n):\n",
    "        if i>n//2:\n",
    "            print(' '*(i-(n//2))+'*'+' '*(2*j-n-1)+'*')\n",
    "            j-=1\n",
    "        else:\n",
    "            print(' '*((n//2)-i)+'*'+' '*(2*i-1)+'*')\n",
    "    if n>1:\n",
    "        print(' '*(n//2)+'*')"
   ]
  },
  {
   "cell_type": "code",
   "execution_count": 12,
   "metadata": {},
   "outputs": [
    {
     "name": "stdout",
     "output_type": "stream",
     "text": [
      "4\n",
      "1\n",
      "2\n",
      "2 2\n",
      "1 2\n",
      "4 3\n",
      "1 2 3 4 3\n",
      "1 2 3\n",
      "8  9 4\n",
      "7 6 5\n",
      "1 2 3 4 5 6 7 8 9 5\n",
      "1 2  3 4 5 \n",
      "6 7 8 9 10\n",
      " 11 12 13 14 15\n",
      "16 17 18 19 20\n",
      "21 22 23 24 25\n",
      "1 2 3 4 5 10 15 20 25 24 23 22 21 16 11 6 7 8 9 14 19 18 17 12 13 "
     ]
    }
   ],
   "source": [
    "#Spiral Traversal \n",
    "def spiralPrint(m, n, a) : \n",
    "    k = 0; l = 0\n",
    "    while (k < m and l < n) : \n",
    "        for i in range(l, n) : \n",
    "            print(a[k][i], end = \" \") \n",
    "        k += 1\n",
    "        for i in range(k, m) : \n",
    "            print(a[i][n - 1], end = \" \") \n",
    "        n -= 1\n",
    "        if ( k < m) :  \n",
    "            for i in range(n - 1, (l - 1), -1) : \n",
    "                print(a[m - 1][i], end = \" \") \n",
    "            m -= 1\n",
    "        if (l < n) : \n",
    "            for i in range(m - 1, k - 1, -1) : \n",
    "                print(a[i][l], end = \" \")               \n",
    "            l += 1\n",
    "t=int(input())\n",
    "for testcase in range(t):\n",
    "    n=int(input())\n",
    "    a=[]\n",
    "    for i in range(int(n)):\n",
    "        a.append([int(j) for j in input().split()])\n",
    "    spiralPrint(n,n,a)"
   ]
  },
  {
   "cell_type": "code",
   "execution_count": null,
   "metadata": {},
   "outputs": [],
   "source": [
    "#Prime Coins\n",
    "t=int(input())\n",
    "for testcase in range(t):\n",
    "    n=int(input())\n",
    "    if(n%6==0):\n",
    "        print(\"Banta\")\n",
    "    else:\n",
    "        print(\"Santa\")"
   ]
  }
 ],
 "metadata": {
  "kernelspec": {
   "display_name": "Python 3",
   "language": "python",
   "name": "python3"
  },
  "language_info": {
   "codemirror_mode": {
    "name": "ipython",
    "version": 3
   },
   "file_extension": ".py",
   "mimetype": "text/x-python",
   "name": "python",
   "nbconvert_exporter": "python",
   "pygments_lexer": "ipython3",
   "version": "3.7.3"
  }
 },
 "nbformat": 4,
 "nbformat_minor": 2
}
