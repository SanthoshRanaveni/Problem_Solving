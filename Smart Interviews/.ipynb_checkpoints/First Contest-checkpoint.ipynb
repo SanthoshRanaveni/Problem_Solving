{
 "cells": [
  {
   "cell_type": "code",
   "execution_count": 1,
   "metadata": {},
   "outputs": [
    {
     "name": "stdout",
     "output_type": "stream",
     "text": [
      "2\n",
      "8\n",
      "Yes\n",
      "1\n",
      "No\n"
     ]
    }
   ],
   "source": [
    "#EvenSPlit\n",
    "\n",
    "t=int(input())\n",
    "for i in range(t):\n",
    "    n=int(input())\n",
    "    if(n%2==0 and n!=0 and n!=2):\n",
    "        print(\"Yes\")\n",
    "    else:\n",
    "        print(\"No\")"
   ]
  },
  {
   "cell_type": "code",
   "execution_count": 3,
   "metadata": {},
   "outputs": [
    {
     "name": "stdout",
     "output_type": "stream",
     "text": [
      "2\n",
      "5\n",
      "madam\n",
      "Yes\n",
      "6\n",
      "tester\n",
      "No\n"
     ]
    }
   ],
   "source": [
    "#Palindrome\n",
    "t=int(input())\n",
    "for i in range(t):\n",
    "    n=int(input())\n",
    "    txt=input()\n",
    "    p1=0\n",
    "    p2=n-1\n",
    "    flag=1\n",
    "    while(p1<=p2):\n",
    "        if(txt[p1]==txt[p2]):\n",
    "            p1+=1\n",
    "            p2-=1\n",
    "        else:\n",
    "            flag=0\n",
    "            break\n",
    "    if(flag==0):\n",
    "        print(\"No\")\n",
    "    else:\n",
    "        print(\"Yes\")"
   ]
  },
  {
   "cell_type": "code",
   "execution_count": null,
   "metadata": {},
   "outputs": [],
   "source": [
    "t=int(input())\n",
    "for testcase in range(t):\n",
    "    "
   ]
  },
  {
   "cell_type": "code",
   "execution_count": 6,
   "metadata": {},
   "outputs": [
    {
     "name": "stdout",
     "output_type": "stream",
     "text": [
      "5\n",
      "8\n",
      "4\n",
      "16808\n",
      "16\n",
      "9\n",
      "3\n",
      "23\n",
      "2\n",
      "97158\n",
      "8\n"
     ]
    }
   ],
   "source": [
    "t=int(input())\n",
    "for testcase in range(t):\n",
    "    n=int(input())\n",
    "    count=0\n",
    "    i=1\n",
    "    while(i<=n//i):\n",
    "        if(n%i==0):\n",
    "            if(i==(n//i)):\n",
    "                count+=1\n",
    "            else:\n",
    "                count+=2\n",
    "        i+=1\n",
    "    print(count)"
   ]
  },
  {
   "cell_type": "code",
   "execution_count": 2,
   "metadata": {},
   "outputs": [
    {
     "name": "stdout",
     "output_type": "stream",
     "text": [
      "3\n",
      "5\n",
      "1\n",
      "15\n",
      "4\n",
      "13\n",
      "2\n"
     ]
    }
   ],
   "source": [
    "t=int(input())\n",
    "for testcase in range(t):\n",
    "    n=int(input())\n",
    "    binN=bin(n)\n",
    "    binN=binN[2:]\n",
    "    count=0\n",
    "    ans=0\n",
    "    i=0\n",
    "    while(i<len(binN)):\n",
    "        if(binN[i]=='1'):\n",
    "            count+=1\n",
    "        else:\n",
    "            count=0\n",
    "        ans=max(count,ans)\n",
    "        i+=1\n",
    "    print(ans)"
   ]
  },
  {
   "cell_type": "code",
   "execution_count": 8,
   "metadata": {},
   "outputs": [
    {
     "name": "stdout",
     "output_type": "stream",
     "text": [
      "6\n",
      "-6 10 -1 20 15 5 \n",
      "5\n",
      "20\n",
      "20\n",
      "21\n",
      "-2147483648\n",
      "4 54 6\n"
     ]
    },
    {
     "ename": "ValueError",
     "evalue": "invalid literal for int() with base 10: '4 54 6'",
     "output_type": "error",
     "traceback": [
      "\u001b[1;31m---------------------------------------------------------------------------\u001b[0m",
      "\u001b[1;31mValueError\u001b[0m                                Traceback (most recent call last)",
      "\u001b[1;32m<ipython-input-8-c5a814b25661>\u001b[0m in \u001b[0;36m<module>\u001b[1;34m\u001b[0m\n\u001b[0;32m     17\u001b[0m \u001b[0mtest\u001b[0m\u001b[1;33m=\u001b[0m\u001b[0mint\u001b[0m\u001b[1;33m(\u001b[0m\u001b[0minput\u001b[0m\u001b[1;33m(\u001b[0m\u001b[1;33m)\u001b[0m\u001b[1;33m)\u001b[0m\u001b[1;33m\u001b[0m\u001b[1;33m\u001b[0m\u001b[0m\n\u001b[0;32m     18\u001b[0m \u001b[1;32mfor\u001b[0m \u001b[0mtestcase\u001b[0m \u001b[1;32min\u001b[0m \u001b[0mrange\u001b[0m\u001b[1;33m(\u001b[0m\u001b[0mtest\u001b[0m\u001b[1;33m)\u001b[0m\u001b[1;33m:\u001b[0m\u001b[1;33m\u001b[0m\u001b[1;33m\u001b[0m\u001b[0m\n\u001b[1;32m---> 19\u001b[1;33m     \u001b[0mx\u001b[0m\u001b[1;33m=\u001b[0m\u001b[0mint\u001b[0m\u001b[1;33m(\u001b[0m\u001b[0minput\u001b[0m\u001b[1;33m(\u001b[0m\u001b[1;33m)\u001b[0m\u001b[1;33m)\u001b[0m\u001b[1;33m\u001b[0m\u001b[1;33m\u001b[0m\u001b[0m\n\u001b[0m\u001b[0;32m     20\u001b[0m     \u001b[0mar\u001b[0m\u001b[1;33m.\u001b[0m\u001b[0msort\u001b[0m\u001b[1;33m(\u001b[0m\u001b[0mreverse\u001b[0m\u001b[1;33m=\u001b[0m\u001b[1;32mTrue\u001b[0m\u001b[1;33m)\u001b[0m\u001b[1;33m\u001b[0m\u001b[1;33m\u001b[0m\u001b[0m\n\u001b[0;32m     21\u001b[0m     \u001b[0mprint\u001b[0m\u001b[1;33m(\u001b[0m\u001b[0msolve\u001b[0m\u001b[1;33m(\u001b[0m\u001b[0mar\u001b[0m\u001b[1;33m,\u001b[0m\u001b[0mn\u001b[0m\u001b[1;33m,\u001b[0m\u001b[0mx\u001b[0m\u001b[1;33m)\u001b[0m\u001b[1;33m)\u001b[0m\u001b[1;33m\u001b[0m\u001b[1;33m\u001b[0m\u001b[0m\n",
      "\u001b[1;31mValueError\u001b[0m: invalid literal for int() with base 10: '4 54 6'"
     ]
    }
   ],
   "source": [
    "import sys\n",
    "\n",
    "def solve(ar,n,x):\n",
    "    low=0\n",
    "    high=n-1\n",
    "    ans= 2147483647\n",
    "    while(low<=high):\n",
    "        mid=(low+high)//2\n",
    "        if(ar[mid]>=x):\n",
    "            ans=ar[mid]\n",
    "            low=mid+1\n",
    "        else:\n",
    "            high=mid-1\n",
    "    return ans\n",
    "n=int(input())\n",
    "ar=list(map(int,input().split()))\n",
    "test=int(input())\n",
    "for testcase in range(test):\n",
    "    x=int(input())\n",
    "    ar.sort(reverse=True)\n",
    "    print(solve(ar,n,x))"
   ]
  },
  {
   "cell_type": "code",
   "execution_count": 16,
   "metadata": {},
   "outputs": [
    {
     "name": "stdout",
     "output_type": "stream",
     "text": [
      "6\n",
      "-6 10 -1 20 15 5 \n",
      "5\n",
      "-1\n",
      "10\n",
      "13\n",
      "25\n",
      "-10\n",
      "[2147483648, 15, 10, -1, -6]\n",
      "-1\n",
      "10\n",
      "15\n",
      "2147483648\n",
      "-6\n"
     ]
    }
   ],
   "source": [
    "#3rd method using Binary Search\n",
    "def BSR(ar,k,low,high):\n",
    "    mid=int((low+high)/2)\n",
    "    if(low>high):\n",
    "        return 0\n",
    "    if(k==ar[mid]):\n",
    "        return mid\n",
    "    if(k>ar[mid]):\n",
    "        return BSR(ar,k,low,mid-1)\n",
    "    return BSR(ar,k,mid+1,high)\n",
    "\n",
    "n=int(input())\n",
    "ar=list(map(int,input().split()))\n",
    "qr=[]\n",
    "q=int(input())\n",
    "for i in range(q):\n",
    "    qr.append(int(input()))\n",
    "ar.sort(reverse=True)\n",
    "qrn=sorted(qr,reverse=True)\n",
    "p1=0\n",
    "p2=0\n",
    "ans=[]\n",
    "intMax=2147483647\n",
    "while(p2<q):\n",
    "    if(ar[p1]>qrn[p2] and p1==n-1):\n",
    "        ans.append(ar[p1])\n",
    "        p1+=1\n",
    "        p2+=1\n",
    "    elif(ar[p1]>qrn[p2]):\n",
    "        p1+=1\n",
    "    elif(ar[p1]==qrn[p2]):\n",
    "        ans.append(ar[p1])\n",
    "        p1+=1\n",
    "        p2+=1\n",
    "    elif(ar[p1]<qrn[p2] and p1==0):\n",
    "        ans.append(intMax)\n",
    "        p2+=1\n",
    "    elif(ar[p1]<qrn[p2] and ar[p1-1]>qrn[p2]):\n",
    "        ans.append(ar[p1-1])\n",
    "        p2+=1\n",
    "    if(p1==n):\n",
    "        while(p2<q):\n",
    "            ans.append(ar[p1-1])\n",
    "            p2+=1\n",
    "        break\n",
    "for i in range(q):\n",
    "    indx=BSR(qrn,qr[i],0,q-1)\n",
    "    print(ans[indx])"
   ]
  },
  {
   "cell_type": "code",
   "execution_count": 20,
   "metadata": {},
   "outputs": [
    {
     "name": "stdout",
     "output_type": "stream",
     "text": [
      "2\n",
      "5\n",
      "1\n",
      "10\n",
      "3\n"
     ]
    }
   ],
   "source": [
    "t=int(input())\n",
    "for i in range(t):\n",
    "    n=int(input())\n",
    "    cnt=0\n",
    "    binN=bin(n)\n",
    "    binN=binN[2:]\n",
    "    for i in range(len(binN)):\n",
    "        if(binN[i]=='0'):\n",
    "            cnt+=1\n",
    "    print((1<<cnt)-1)"
   ]
  },
  {
   "cell_type": "code",
   "execution_count": 24,
   "metadata": {},
   "outputs": [
    {
     "name": "stdout",
     "output_type": "stream",
     "text": [
      "2\n",
      "1\n",
      "0\n",
      "12\n",
      "3\n"
     ]
    }
   ],
   "source": [
    "def solve(n):\n",
    "    count = 0\n",
    "    while(n>0):\n",
    "        if n % 2 == 0:\n",
    "            count += 1\n",
    "        n = n // 2\n",
    "    return(2**count)\n",
    "t=int(input())\n",
    "for i in range(t):\n",
    "    n=int(input())\n",
    "    print(solve(n)-1)"
   ]
  },
  {
   "cell_type": "code",
   "execution_count": null,
   "metadata": {},
   "outputs": [],
   "source": [
    "#Sum of Pairs\n",
    "def sumOfPairs(ar,n,k):\n",
    "    ar.sort()\n",
    "    p1=0\n",
    "    p2=n-1\n",
    "    while(p1<p2):\n",
    "        if(ar[p1]+ar[p2]==k):\n",
    "            return 1\n",
    "        elif(ar[p1]+ar[p2]<k):\n",
    "            p1+=1\n",
    "        else:\n",
    "            p2-=1\n",
    "    return 0\n",
    "\n",
    "t=int(input())\n",
    "for i in range(t):\n",
    "    n,k=map(int,input().split())\n",
    "    ar=list(map(int,input().split()))\n",
    "    if(sumOfPairs(ar,n,k)):\n",
    "        print(\"True\")\n",
    "    else:\n",
    "        print(\"False\")"
   ]
  },
  {
   "cell_type": "code",
   "execution_count": 27,
   "metadata": {},
   "outputs": [
    {
     "name": "stdout",
     "output_type": "stream",
     "text": [
      "2\n",
      "5\n",
      "2 1 1 1 1\n",
      "No\n",
      "3234 4\n"
     ]
    },
    {
     "ename": "ValueError",
     "evalue": "invalid literal for int() with base 10: '3234 4'",
     "output_type": "error",
     "traceback": [
      "\u001b[1;31m---------------------------------------------------------------------------\u001b[0m",
      "\u001b[1;31mValueError\u001b[0m                                Traceback (most recent call last)",
      "\u001b[1;32m<ipython-input-27-4e438e6b379b>\u001b[0m in \u001b[0;36m<module>\u001b[1;34m\u001b[0m\n\u001b[0;32m     15\u001b[0m \u001b[0mt\u001b[0m\u001b[1;33m=\u001b[0m\u001b[0mint\u001b[0m\u001b[1;33m(\u001b[0m\u001b[0minput\u001b[0m\u001b[1;33m(\u001b[0m\u001b[1;33m)\u001b[0m\u001b[1;33m)\u001b[0m\u001b[1;33m\u001b[0m\u001b[1;33m\u001b[0m\u001b[0m\n\u001b[0;32m     16\u001b[0m \u001b[1;32mfor\u001b[0m \u001b[0mtestcase\u001b[0m \u001b[1;32min\u001b[0m \u001b[0mrange\u001b[0m\u001b[1;33m(\u001b[0m\u001b[0mt\u001b[0m\u001b[1;33m)\u001b[0m\u001b[1;33m:\u001b[0m\u001b[1;33m\u001b[0m\u001b[1;33m\u001b[0m\u001b[0m\n\u001b[1;32m---> 17\u001b[1;33m     \u001b[0mn\u001b[0m\u001b[1;33m=\u001b[0m\u001b[0mint\u001b[0m\u001b[1;33m(\u001b[0m\u001b[0minput\u001b[0m\u001b[1;33m(\u001b[0m\u001b[1;33m)\u001b[0m\u001b[1;33m)\u001b[0m\u001b[1;33m\u001b[0m\u001b[1;33m\u001b[0m\u001b[0m\n\u001b[0m\u001b[0;32m     18\u001b[0m     \u001b[0mar\u001b[0m\u001b[1;33m=\u001b[0m\u001b[0mlist\u001b[0m\u001b[1;33m(\u001b[0m\u001b[0mmap\u001b[0m\u001b[1;33m(\u001b[0m\u001b[0mint\u001b[0m\u001b[1;33m,\u001b[0m\u001b[0minput\u001b[0m\u001b[1;33m(\u001b[0m\u001b[1;33m)\u001b[0m\u001b[1;33m.\u001b[0m\u001b[0msplit\u001b[0m\u001b[1;33m(\u001b[0m\u001b[1;33m)\u001b[0m\u001b[1;33m)\u001b[0m\u001b[1;33m)\u001b[0m\u001b[1;33m\u001b[0m\u001b[1;33m\u001b[0m\u001b[0m\n\u001b[0;32m     19\u001b[0m     \u001b[0mar\u001b[0m\u001b[1;33m.\u001b[0m\u001b[0msort\u001b[0m\u001b[1;33m(\u001b[0m\u001b[1;33m)\u001b[0m\u001b[1;33m\u001b[0m\u001b[1;33m\u001b[0m\u001b[0m\n",
      "\u001b[1;31mValueError\u001b[0m: invalid literal for int() with base 10: '3234 4'"
     ]
    }
   ],
   "source": [
    "#Sum of 2 numbers\n",
    "def sumOfPairs(ar,n,k):\n",
    "    ar.sort()\n",
    "    p1=0\n",
    "    p2=n-1\n",
    "    while(p1<p2):\n",
    "        if(ar[p1]+ar[p2]==k):\n",
    "            return 1\n",
    "        elif(ar[p1]+ar[p2]<k):\n",
    "            p1+=1\n",
    "        else:\n",
    "            p2-=1\n",
    "    return 0\n",
    "\n",
    "t=int(input())\n",
    "for testcase in range(t):\n",
    "    n=int(input())\n",
    "    ar=list(map(int,input().split()))\n",
    "    ar.sort()\n",
    "    summ=0\n",
    "    for i in range(n):\n",
    "        summ=summ+ar[i]\n",
    "    if(summ%2==0):\n",
    "        summ=summ/2\n",
    "        if(sumOfPairs(ar,n,summ)):\n",
    "            print(\"Yes\")\n",
    "        else:\n",
    "            print(\"No\")\n",
    "    else:\n",
    "        print(\"No\")"
   ]
  },
  {
   "cell_type": "code",
   "execution_count": null,
   "metadata": {},
   "outputs": [],
   "source": [
    "def isPalindrome(ar,lo,hi):\n",
    "    while(lo<=hi):\n",
    "        mid=(lo+hi)/2\n",
    "        if(ar[lo]==ar[hi]):\n",
    "            lo+=1\n",
    "            hi-=1\n",
    "        else:\n",
    "            return 0\n",
    "    if(lo>=hi):\n",
    "        return 1\n",
    "def solve(ar,)\n",
    "\n",
    "t=int(input())\n",
    "for i in range(t):\n",
    "    txt=input()\n",
    "    a=[]\n",
    "    for k in range(len(txt)):\n",
    "        a.append(txt[k])\n",
    "    lo=0\n",
    "    hi=len(a)-1\n",
    "    while(len(a[lo:hi])>0):\n",
    "        mid=(lo+hi)//2\n",
    "        if(isPalindrome(ar,lo,mid)==1):\n",
    "            "
   ]
  },
  {
   "cell_type": "code",
   "execution_count": 6,
   "metadata": {},
   "outputs": [
    {
     "name": "stdout",
     "output_type": "stream",
     "text": [
      "1\n",
      "7\n",
      "100 100 50 40 40 20 10 \n",
      "4\n",
      "5 25 50 120 \n",
      "[10, 20, 40, 40, 50, 100, 100]\n",
      "[5, 25, 50, 120]\n",
      "6 4 1 1 "
     ]
    }
   ],
   "source": [
    "t=int(input())\n",
    "for testcase in range(t):\n",
    "    nb=int(input())\n",
    "    arb=list(map(int,input().split()))\n",
    "    arb.sort()\n",
    "    np=int(input())\n",
    "    arp=list(map(int,input().split()))\n",
    "    summ=0\n",
    "    print(arb)\n",
    "    print(arp)\n",
    "    ars=set()\n",
    "    for book in arb:\n",
    "        ars.add(book)\n",
    "    rank=len(ars)+1\n",
    "    p1=0\n",
    "    p2=0\n",
    "    while(p2<np and p1<nb):\n",
    "        if(arp[p2]<arb[p1]):\n",
    "            print(rank,end=\" \")\n",
    "            p2+=1\n",
    "        elif(arp[p2]>arb[p1]):\n",
    "            p1+=1\n",
    "            rank-=1\n",
    "        elif(arp[p2]==arb[p1] and arb[p1]==arb[p1+1]):\n",
    "            rank-=1\n",
    "            print(rank,end=\" \")\n",
    "            p2+=1\n",
    "            p1+=1\n",
    "        elif(arp[p2]==arb[p1] and arb[p1]!=arb[p1+1]):\n",
    "            rank-=1\n",
    "            print(rank,end=\" \")\n",
    "            p2+=1\n",
    "    while(p2<np):\n",
    "        print(\"1\",end=\" \")\n",
    "        p2+=1"
   ]
  },
  {
   "cell_type": "code",
   "execution_count": 12,
   "metadata": {},
   "outputs": [
    {
     "name": "stdout",
     "output_type": "stream",
     "text": [
      "3\n",
      "3\n",
      "1 2 3\n"
     ]
    },
    {
     "ename": "TypeError",
     "evalue": "reduce() of empty sequence with no initial value",
     "output_type": "error",
     "traceback": [
      "\u001b[1;31m---------------------------------------------------------------------------\u001b[0m",
      "\u001b[1;31mTypeError\u001b[0m                                 Traceback (most recent call last)",
      "\u001b[1;32m<ipython-input-12-20a95626ad0d>\u001b[0m in \u001b[0;36m<module>\u001b[1;34m\u001b[0m\n\u001b[0;32m     14\u001b[0m     \u001b[0mflag\u001b[0m\u001b[1;33m=\u001b[0m\u001b[1;36m0\u001b[0m\u001b[1;33m\u001b[0m\u001b[1;33m\u001b[0m\u001b[0m\n\u001b[0;32m     15\u001b[0m     \u001b[1;32mfor\u001b[0m \u001b[0ms\u001b[0m \u001b[1;32min\u001b[0m \u001b[0mps\u001b[0m\u001b[1;33m(\u001b[0m\u001b[0ms\u001b[0m\u001b[1;33m)\u001b[0m\u001b[1;33m:\u001b[0m\u001b[1;33m\u001b[0m\u001b[1;33m\u001b[0m\u001b[0m\n\u001b[1;32m---> 16\u001b[1;33m         \u001b[1;32mif\u001b[0m\u001b[1;33m(\u001b[0m\u001b[0mpowof2\u001b[0m\u001b[1;33m(\u001b[0m\u001b[0ms\u001b[0m\u001b[1;33m)\u001b[0m\u001b[1;33m)\u001b[0m\u001b[1;33m:\u001b[0m\u001b[1;33m\u001b[0m\u001b[1;33m\u001b[0m\u001b[0m\n\u001b[0m\u001b[0;32m     17\u001b[0m             \u001b[0mprint\u001b[0m\u001b[1;33m(\u001b[0m\u001b[1;34m\"Yes\"\u001b[0m\u001b[1;33m)\u001b[0m\u001b[1;33m\u001b[0m\u001b[1;33m\u001b[0m\u001b[0m\n\u001b[0;32m     18\u001b[0m             \u001b[0mflag\u001b[0m\u001b[1;33m=\u001b[0m\u001b[1;36m1\u001b[0m\u001b[1;33m\u001b[0m\u001b[1;33m\u001b[0m\u001b[0m\n",
      "\u001b[1;32m<ipython-input-12-20a95626ad0d>\u001b[0m in \u001b[0;36mpowof2\u001b[1;34m(s)\u001b[0m\n\u001b[0;32m      1\u001b[0m \u001b[1;32mfrom\u001b[0m \u001b[0mfunctools\u001b[0m \u001b[1;32mimport\u001b[0m \u001b[0mreduce\u001b[0m\u001b[1;33m\u001b[0m\u001b[1;33m\u001b[0m\u001b[0m\n\u001b[0;32m      2\u001b[0m \u001b[1;32mdef\u001b[0m \u001b[0mpowof2\u001b[0m\u001b[1;33m(\u001b[0m\u001b[0ms\u001b[0m\u001b[1;33m)\u001b[0m\u001b[1;33m:\u001b[0m\u001b[1;33m\u001b[0m\u001b[1;33m\u001b[0m\u001b[0m\n\u001b[1;32m----> 3\u001b[1;33m     \u001b[0mres\u001b[0m \u001b[1;33m=\u001b[0m \u001b[0mreduce\u001b[0m\u001b[1;33m(\u001b[0m\u001b[1;32mlambda\u001b[0m \u001b[0mx\u001b[0m\u001b[1;33m,\u001b[0m\u001b[0my\u001b[0m\u001b[1;33m:\u001b[0m\u001b[1;33m(\u001b[0m\u001b[0mx\u001b[0m\u001b[1;33m[\u001b[0m\u001b[1;36m0\u001b[0m\u001b[1;33m]\u001b[0m\u001b[1;33m+\u001b[0m\u001b[0my\u001b[0m\u001b[1;33m[\u001b[0m\u001b[1;36m0\u001b[0m\u001b[1;33m]\u001b[0m\u001b[1;33m,\u001b[0m \u001b[0mx\u001b[0m\u001b[1;33m[\u001b[0m\u001b[1;36m1\u001b[0m\u001b[1;33m]\u001b[0m\u001b[1;33m+\u001b[0m\u001b[0my\u001b[0m\u001b[1;33m[\u001b[0m\u001b[1;36m1\u001b[0m\u001b[1;33m]\u001b[0m\u001b[1;33m)\u001b[0m\u001b[1;33m,\u001b[0m\u001b[1;33m[\u001b[0m\u001b[0mi\u001b[0m \u001b[1;32mfor\u001b[0m \u001b[0mi\u001b[0m \u001b[1;32min\u001b[0m \u001b[0ms\u001b[0m\u001b[1;33m]\u001b[0m\u001b[1;33m)\u001b[0m\u001b[1;33m\u001b[0m\u001b[1;33m\u001b[0m\u001b[0m\n\u001b[0m\u001b[0;32m      4\u001b[0m     \u001b[1;32mreturn\u001b[0m \u001b[1;33m(\u001b[0m\u001b[0mres\u001b[0m \u001b[1;32mand\u001b[0m \u001b[1;33m(\u001b[0m\u001b[1;32mnot\u001b[0m\u001b[1;33m(\u001b[0m\u001b[0mres\u001b[0m \u001b[1;33m&\u001b[0m \u001b[1;33m(\u001b[0m\u001b[0mres\u001b[0m \u001b[1;33m-\u001b[0m \u001b[1;36m1\u001b[0m\u001b[1;33m)\u001b[0m\u001b[1;33m)\u001b[0m\u001b[1;33m)\u001b[0m \u001b[1;33m)\u001b[0m\u001b[1;33m\u001b[0m\u001b[1;33m\u001b[0m\u001b[0m\n\u001b[0;32m      5\u001b[0m \u001b[1;33m\u001b[0m\u001b[0m\n",
      "\u001b[1;31mTypeError\u001b[0m: reduce() of empty sequence with no initial value"
     ]
    }
   ],
   "source": [
    "from functools import reduce\n",
    "def powof2(s):\n",
    "    res = reduce(lambda x,y:(x[0]+y[0], x[1]+y[1]),[i for i in s])\n",
    "    return (res and (not(res & (res - 1))) )\n",
    "\n",
    "t=int(input())\n",
    "for test in range(t):\n",
    "    n=int(input())\n",
    "    ar=list(map(int,input().split()))\n",
    "    s=set()\n",
    "    for i in range(n):\n",
    "        s.add(ar[i])\n",
    "    ps = lambda ar: reduce(lambda P, x: P + [subset | {x} for subset in P], s, [set()])\n",
    "    flag=0\n",
    "    for s in ps(s):\n",
    "        if(powof2(s)):\n",
    "            print(\"Yes\")\n",
    "            flag=1\n",
    "            break\n",
    "    if(flag==0):\n",
    "        print(\"No\")\n",
    "            "
   ]
  },
  {
   "cell_type": "code",
   "execution_count": null,
   "metadata": {},
   "outputs": [],
   "source": [
    "##################################### SECOND CONTEST ####################################################"
   ]
  },
  {
   "cell_type": "code",
   "execution_count": 13,
   "metadata": {},
   "outputs": [
    {
     "name": "stdout",
     "output_type": "stream",
     "text": [
      "2\n",
      "aaa aab\n",
      "2\n",
      "ababababa bbbbbb\n",
      "7\n"
     ]
    }
   ],
   "source": [
    "#Convert Anagrams\n",
    "t=int(input())\n",
    "for testcase in range(t):\n",
    "    a,b=map(str,input().split())\n",
    "    s=dict()\n",
    "    cnt=0\n",
    "    for i in range(len(b)):\n",
    "        if b[i] in s:\n",
    "            s[b[i]]+=1\n",
    "        else:\n",
    "            s[b[i]]=1\n",
    "            \n",
    "    for i in range(len(a)):\n",
    "        if a[i] in s:\n",
    "            if(s[a[i]]>=1):\n",
    "                cnt+=1\n",
    "                s[a[i]]-=1\n",
    "    \n",
    "    print(len(a)+len(b)-2*cnt)"
   ]
  },
  {
   "cell_type": "code",
   "execution_count": 14,
   "metadata": {},
   "outputs": [
    {
     "name": "stdout",
     "output_type": "stream",
     "text": [
      "5\n",
      "1\n",
      "Win\n",
      "2\n",
      "Lose\n",
      "3\n",
      "Win\n",
      "16\n",
      "Win\n",
      "10\n",
      "Lose\n"
     ]
    }
   ],
   "source": [
    "#Game of Squares\n",
    "t=int(input())\n",
    "for tc in range(t):\n",
    "    n=int(input())\n",
    "    if(n%5==2 or n%5==0):\n",
    "        print(\"Lose\")\n",
    "    else:\n",
    "        print(\"Win\")"
   ]
  },
  {
   "cell_type": "code",
   "execution_count": 12,
   "metadata": {},
   "outputs": [
    {
     "name": "stdout",
     "output_type": "stream",
     "text": [
      "4\n",
      "1 10\n",
      "4\n",
      "5  11\n",
      "3\n",
      "232 542\n",
      "50\n",
      "54 6421\n",
      "819\n"
     ]
    }
   ],
   "source": [
    "#Primes in range\n",
    "import math\n",
    "ar=[0]*1000001\n",
    "def primes(n):\n",
    "    p=[True]*(n+1)\n",
    "    p[0]=False\n",
    "    p[1]=False\n",
    "    for i in range(2,int(math.sqrt(n))):\n",
    "        if(p[i]==True):\n",
    "            for j in range(2*i,n,i):\n",
    "                p[j]=False\n",
    "    for i in range(2,1000001):\n",
    "        ar[i]=ar[i-1]\n",
    "        if(p[i]):\n",
    "            ar[i]+=1\n",
    "    return p\n",
    "\n",
    "t=int(input())\n",
    "p=primes(1000000)\n",
    "for testcase in range(t):\n",
    "    a,b=map(int,input().split())\n",
    "    print(ar[b]-ar[a-1])"
   ]
  },
  {
   "cell_type": "code",
   "execution_count": 18,
   "metadata": {},
   "outputs": [
    {
     "name": "stdout",
     "output_type": "stream",
     "text": [
      "1\n",
      "1 100\n",
      "10\n"
     ]
    }
   ],
   "source": [
    "#No of perfect squares  between a and b\n",
    "t=int(input())\n",
    "for tc in range(t):\n",
    "    a,b=map(int,input().split())\n",
    "    print(math.floor(math.sqrt(b))-math.ceil(math.sqrt(a))+1)"
   ]
  },
  {
   "cell_type": "code",
   "execution_count": 20,
   "metadata": {},
   "outputs": [
    {
     "name": "stdout",
     "output_type": "stream",
     "text": [
      "2\n",
      "algo plabhagqogxt\n",
      "No\n",
      "data gojdaoncptdhzay\n",
      "Yes\n"
     ]
    }
   ],
   "source": [
    "#Check Subsequence\n",
    "t=int(input())\n",
    "for tc in range(t):\n",
    "    a,b=map(str,input().split())\n",
    "    j=0\n",
    "    i=0\n",
    "    while j<len(a) and i<len(b): \n",
    "        if a[j] == b[i]:     \n",
    "            j = j+1    \n",
    "        i = i + 1\n",
    "    if(j==len(a)):\n",
    "        print(\"Yes\")\n",
    "    else:\n",
    "        print(\"No\")"
   ]
  },
  {
   "cell_type": "code",
   "execution_count": 18,
   "metadata": {},
   "outputs": [
    {
     "name": "stdout",
     "output_type": "stream",
     "text": [
      "4\n",
      "8\n",
      "2 13 6 5 5 8 1 24\n",
      "4\n",
      "16\n",
      "8 26 12 15 1 23 29 7 3 7 5 20 2 21 18 7\n",
      "205\n",
      "4\n",
      "3 1 1 8\n",
      "6\n",
      "16\n",
      "1 2 28 28 20 27 27 19 6 20 1 22 23 22 1 21 \n",
      "12\n"
     ]
    }
   ],
   "source": [
    "def minStr(ar,n):\n",
    "    ans=1\n",
    "    i=0\n",
    "    while(i<n and ar[i]<=ans):\n",
    "        ans=ans+ar[i]\n",
    "        i+=1\n",
    "    return ans\n",
    "t=int(input())\n",
    "for tc in range(t):\n",
    "    n=int(input())\n",
    "    ar=list(map(int,input().split()))\n",
    "    ar.sort()\n",
    "    print(minStr(ar,n))"
   ]
  },
  {
   "cell_type": "code",
   "execution_count": null,
   "metadata": {},
   "outputs": [
    {
     "name": "stdout",
     "output_type": "stream",
     "text": [
      "44\n",
      "44\n",
      "Win\n",
      "52\n",
      "Win\n",
      "10\n",
      "Lose\n",
      "12\n",
      "Lose\n",
      "11\n",
      "Win\n",
      "2\n",
      "Lose\n",
      "1\n",
      "Lose\n"
     ]
    }
   ],
   "source": [
    "import math\n",
    "win=[False]*100000\n",
    "win[0]=True\n",
    "for i in range(1,100000):\n",
    "    for j in range(1,int(math.sqrt(i))):\n",
    "        if(win[i - j * j]==False):\n",
    "            win[i] = True\n",
    "            break\n",
    "\n",
    "t=int(input())\n",
    "for tc in range(t):\n",
    "    n=int(input())\n",
    "    if(win[n]):\n",
    "        print(\"Win\")\n",
    "    else:\n",
    "        print(\"Lose\")"
   ]
  },
  {
   "cell_type": "markdown",
   "metadata": {},
   "source": [
    "###### "
   ]
  },
  {
   "cell_type": "code",
   "execution_count": 22,
   "metadata": {},
   "outputs": [
    {
     "name": "stdout",
     "output_type": "stream",
     "text": [
      "1\n",
      "7\n",
      "30 50\n",
      "1 70\n",
      "20 25\n",
      "50 100\n",
      "80 90\n",
      "15 65\n",
      "25 70\n",
      "5\n"
     ]
    }
   ],
   "source": [
    "t=int(input())\n",
    "for tc in range(t):\n",
    "    n=int(input())\n",
    "    ara=[]\n",
    "    arb=[]\n",
    "    for case in range(n):\n",
    "        a,b=map(int,input().split())\n",
    "        ara.append(a)\n",
    "        arb.append(b)\n",
    "    ara.sort()\n",
    "    arb.sort()\n",
    "    i=0\n",
    "    j=0\n",
    "    active=0\n",
    "    maxRooms=0\n",
    "    while(i<len(ara) and j<len(arb)):\n",
    "        if(ara[i]<=arb[j]):\n",
    "            i+=1\n",
    "            active+=1\n",
    "            maxRooms=max(maxRooms,active)\n",
    "        else:\n",
    "            j+=1\n",
    "            active-=1\n",
    "    print(maxRooms)"
   ]
  },
  {
   "cell_type": "code",
   "execution_count": null,
   "metadata": {},
   "outputs": [],
   "source": []
  }
 ],
 "metadata": {
  "kernelspec": {
   "display_name": "Python 3",
   "language": "python",
   "name": "python3"
  },
  "language_info": {
   "codemirror_mode": {
    "name": "ipython",
    "version": 3
   },
   "file_extension": ".py",
   "mimetype": "text/x-python",
   "name": "python",
   "nbconvert_exporter": "python",
   "pygments_lexer": "ipython3",
   "version": "3.7.3"
  }
 },
 "nbformat": 4,
 "nbformat_minor": 2
}
